{
 "cells": [
  {
   "cell_type": "markdown",
   "id": "68fd55b2-9f95-40d7-a9c0-8a7c07b1d580",
   "metadata": {},
   "source": [
    "# Criação de data warehouse para dados públicos de atendimentos ambulatoriais do SUS\n",
    "\n",
    "Esse Jupyter notebook é parte do trabalho de conclusão de curso do MBA em Inteligência Artificial e Big Data, oferecido pelo ICMC - USP, do aluno Danilo Gouvea Silva, da Turma 3.\n",
    "\n",
    "Parte do capítulo de Avaliação Experimental da monografia, nesse segundo notebook (`sus_dw_eda.ipynb`), após a execução do processo de ETL - \"Extract, Transform and Load\" - o data warehouse está organizado em 1 tabela de fatos e 12 tabelas de dimensões armazenadas em arquivos Apache Parquet.\n",
    "\n",
    "Aqui, todas as tabelas serão carregadas e estarão prontras para a análise exploratória através de consultas analíticas. Algumas consultas analíticas serão realizadas como exemplo.\n",
    "\n",
    "Esse notebook foi criado e utilizado localmente. Para utilizá-lo, é necessário que estejam localmente instalados o Spark, o Java e o Python. Também é recomendado a criação de um ambiente virtual Python para a instalação de todos pacotes de Python necessários, que estão contidos no arquivo de requisitos `requirements.txt`, que disponibilizado junto a esse notebook.\n",
    "\n",
    "É importante ressaltar que o objetivo desse notebook não é demonstrar, nem guiar a instalação e configuração do Spark numa máquina local."
   ]
  },
  {
   "cell_type": "markdown",
   "id": "f94a7bd3-875f-4680-8769-34ba69a22d29",
   "metadata": {},
   "source": [
    "## Criação da sessão Spark\n",
    "\n",
    "Nessa seção, é criado uma sessão local de Spark, com apenas um <b>nó mestre</b> e sem <b>nós de trabalho</b> e <b>gerenciador de cluster</b>. As tarefas (<i>tasks</i>) serão executadas pelo <i>driver</i> localizado no nó mestre e utilizarão o máximo de núcleos lógicos de processamento disponíveis no processador local."
   ]
  },
  {
   "cell_type": "code",
   "execution_count": 1,
   "id": "cb146a9d-9d06-4080-b664-a251a830a646",
   "metadata": {
    "scrolled": true
   },
   "outputs": [
    {
     "name": "stderr",
     "output_type": "stream",
     "text": [
      "java version \"1.8.0_411\"\n",
      "Java(TM) SE Runtime Environment (build 1.8.0_411-b09)\n",
      "Java HotSpot(TM) 64-Bit Server VM (build 25.411-b09, mixed mode)\n"
     ]
    },
    {
     "name": "stdout",
     "output_type": "stream",
     "text": [
      "Python 3.10.5\n"
     ]
    },
    {
     "name": "stderr",
     "output_type": "stream",
     "text": [
      "Welcome to\n",
      "      ____              __\n",
      "     / __/__  ___ _____/ /__\n",
      "    _\\ \\/ _ \\/ _ `/ __/  '_/\n",
      "   /___/ .__/\\_,_/_/ /_/\\_\\   version 3.5.1\n",
      "      /_/\n",
      "                        \n",
      "Using Scala version 2.12.18, Java HotSpot(TM) 64-Bit Server VM, 1.8.0_381\n",
      "Branch HEAD\n",
      "Compiled by user heartsavior on 2024-02-15T11:24:58Z\n",
      "Revision fd86f85e181fc2dc0f50a096855acf83a6cc5d9c\n",
      "Url https://github.com/apache/spark\n",
      "Type --help for more information.\n"
     ]
    }
   ],
   "source": [
    "# Verifica as versões instaladas de Java, Python e Spark\n",
    "\n",
    "!java -version\n",
    "!python --version\n",
    "!pyspark --version"
   ]
  },
  {
   "cell_type": "code",
   "execution_count": 2,
   "id": "19534403-7fff-47e1-adc8-1f577f8589ac",
   "metadata": {},
   "outputs": [
    {
     "name": "stdout",
     "output_type": "stream",
     "text": [
      "Requirement already satisfied: findspark in c:\\mba\\tcc\\venv\\lib\\site-packages (2.0.1)\n"
     ]
    }
   ],
   "source": [
    "# Configura corretamente as variáveis de ambiente do Spark\n",
    "\n",
    "!pip install findspark\n",
    "import findspark\n",
    "findspark.init()"
   ]
  },
  {
   "cell_type": "code",
   "execution_count": 3,
   "id": "c904fab5-aaa3-4c92-91e4-4c650a23eb40",
   "metadata": {},
   "outputs": [
    {
     "data": {
      "text/html": [
       "\n",
       "            <div>\n",
       "                <p><b>SparkSession - in-memory</b></p>\n",
       "                \n",
       "        <div>\n",
       "            <p><b>SparkContext</b></p>\n",
       "\n",
       "            <p><a href=\"http://host.docker.internal:4040\">Spark UI</a></p>\n",
       "\n",
       "            <dl>\n",
       "              <dt>Version</dt>\n",
       "                <dd><code>v3.5.1</code></dd>\n",
       "              <dt>Master</dt>\n",
       "                <dd><code>local[*]</code></dd>\n",
       "              <dt>AppName</dt>\n",
       "                <dd><code>sus_dw_eda</code></dd>\n",
       "            </dl>\n",
       "        </div>\n",
       "        \n",
       "            </div>\n",
       "        "
      ],
      "text/plain": [
       "<pyspark.sql.session.SparkSession at 0x1beab439ab0>"
      ]
     },
     "execution_count": 3,
     "metadata": {},
     "output_type": "execute_result"
    }
   ],
   "source": [
    "# Cria a sessão de Spark\n",
    "\n",
    "from pyspark.sql import SparkSession\n",
    "\n",
    "spark = SparkSession.builder \\\n",
    "    .appName('sus_dw_eda') \\\n",
    "    .master('local[*]') \\\n",
    "    .getOrCreate()\n",
    "\n",
    "spark"
   ]
  },
  {
   "cell_type": "markdown",
   "id": "091af724-e146-4553-80b1-4052cb9408b6",
   "metadata": {},
   "source": [
    "## Carregamento das tabelas de fatos e dimensões "
   ]
  },
  {
   "cell_type": "code",
   "execution_count": 4,
   "id": "b1930da2-f940-4793-acee-8513d003b86d",
   "metadata": {},
   "outputs": [],
   "source": [
    "# Importa as funções e tipos de dados do Spark\n",
    "\n",
    "import pyspark.sql.functions as F\n",
    "import pyspark.sql.types as T"
   ]
  },
  {
   "cell_type": "markdown",
   "id": "9b4a0c77-9d3c-4f9a-84fe-4d17d9955ee5",
   "metadata": {},
   "source": [
    "### Carregamento da tabela de fatos SIASUS - SERVIÇO DE INFORMAÇÕES AMBULATORIAIS DO SUS (`sia_df`)"
   ]
  },
  {
   "cell_type": "code",
   "execution_count": 5,
   "id": "fcdbe6ea-a9de-4133-96f2-63a6452095c5",
   "metadata": {},
   "outputs": [],
   "source": [
    "# Carrega a tabela de fatos SIA - Serviço de Informações Ambulatoriais\n",
    "\n",
    "sia_df = spark.read.parquet('sus-data-warehouse/sia')"
   ]
  },
  {
   "cell_type": "code",
   "execution_count": 6,
   "id": "dd7174fb-108a-4605-a077-53aff29eb96c",
   "metadata": {},
   "outputs": [
    {
     "name": "stdout",
     "output_type": "stream",
     "text": [
      "Número de registros: 1,742,743,969\n"
     ]
    }
   ],
   "source": [
    "# Conta o número total de registros na tabela de fatos\n",
    "\n",
    "sia_df_count = sia_df.count()\n",
    "\n",
    "print(f'Número de registros: {sia_df_count:,}')"
   ]
  },
  {
   "cell_type": "code",
   "execution_count": 7,
   "id": "7bc9ba62-f75d-4f60-a141-4711424d4ec6",
   "metadata": {},
   "outputs": [
    {
     "name": "stdout",
     "output_type": "stream",
     "text": [
      "root\n",
      " |-- PA_CMP: string (nullable = true)\n",
      " |-- PA_CODUNI: string (nullable = true)\n",
      " |-- PA_TPUPS: string (nullable = true)\n",
      " |-- PA_UFMUN: string (nullable = true)\n",
      " |-- PA_PROC_ID: string (nullable = true)\n",
      " |-- PA_DOCORIG: string (nullable = true)\n",
      " |-- PA_CNSMED: string (nullable = true)\n",
      " |-- PA_CBOCOD: string (nullable = true)\n",
      " |-- PA_MOTSAI: string (nullable = true)\n",
      " |-- PA_CIDPRI: string (nullable = true)\n",
      " |-- PA_CIDSEC: string (nullable = true)\n",
      " |-- PA_CIDCAS: string (nullable = true)\n",
      " |-- PA_CATEND: string (nullable = true)\n",
      " |-- PA_IDADE: integer (nullable = true)\n",
      " |-- PA_SEXO: string (nullable = true)\n",
      " |-- PA_RACACOR: string (nullable = true)\n",
      " |-- PA_MUNPCN: string (nullable = true)\n",
      " |-- PA_QTDAPR: integer (nullable = true)\n",
      " |-- PA_VALAPR: float (nullable = true)\n",
      "\n"
     ]
    }
   ],
   "source": [
    "# Exibe a lista de colunas do dataframe SIA\n",
    "\n",
    "sia_df \\\n",
    "    .printSchema()"
   ]
  },
  {
   "cell_type": "markdown",
   "id": "812cf491-2c8f-4b2b-a66c-f0aa2e27aa76",
   "metadata": {},
   "source": [
    "### Carregamento das tabelas de dimensões\n",
    "\n",
    "Nessa seção, serão carregadas as tabelas de dimensões:\n",
    "- `municipios_df`: listagem do IBGE de todos os munícipios brasileiros, estados, regiões e outras informações; `sia_df['PA_UFMUN]`\n",
    "- `cnes_df`: Cadastro Nacional de Estabelecimentos de Saúde; `sia_df['PA_CODUNI']`\n",
    "- `sigtap_proced_df`: listagem dos Procedimentos oferecidos pelo SUS; `sia_df['PA_PROC_ID']`\n",
    "- `cid_df`: CID-10 Código Internacional de Doenças; `sia_df['PA_CIDPRI', 'PA_CIDSEC', 'PA_CIDCAS']`\n",
    "- `ano_mes_df`: Dimensão \"data\"no formato AAAAMM; `sia_df['PA_CMP']`\n",
    "- `cbocod_df`: Código Brasileiro de Ocupações; `sia_df['PA_CBOCOD']`\n",
    "- `tpups_df`: Tipos de Estabelcimentos de Saúde; `sia_df['PA_TPUPS']`\n",
    "- `catend_df`: Caráter de Atendimento; `sia_df['PA_CATEND']`\n",
    "- `docorig_df`: Tipo de Documento de Origem da produção ambulatorial; `sia_df['PA_DOCORIG']`\n",
    "- `sexo_df`: Sexo do paciente; `sia_df['PA_SEXO']`\n",
    "- `raca_cor_df`: Raça/Cor do paciente; `sia_df['PA_RACACOR']`\n",
    "- `motsai_df`: Motivos de saída. `sia_df['PA_MOTSAI']`"
   ]
  },
  {
   "cell_type": "code",
   "execution_count": 8,
   "id": "e55fd931-3073-4f27-bb22-e6e1080259ba",
   "metadata": {},
   "outputs": [],
   "source": [
    "# Carrega as tabelas de dimensões\n",
    "\n",
    "municipios_df = spark.read.parquet('sus-data-warehouse/municipios')\n",
    "cnes_df = spark.read.parquet('sus-data-warehouse/cnes')\n",
    "sigtap_proced_df = spark.read.parquet('sus-data-warehouse/sigtap_proced')\n",
    "cid_df = spark.read.parquet('sus-data-warehouse/cid')\n",
    "ano_mes_df = spark.read.parquet('sus-data-warehouse/ano_mes')\n",
    "cbocod_df = spark.read.parquet('sus-data-warehouse/cbocod')\n",
    "tpups_df = spark.read.parquet('sus-data-warehouse/tpups')\n",
    "catend_df = spark.read.parquet('sus-data-warehouse/catend')\n",
    "docorig_df = spark.read.parquet('sus-data-warehouse/docorig')\n",
    "sexo_df = spark.read.parquet('sus-data-warehouse/sexo')\n",
    "raca_cor_df = spark.read.parquet('sus-data-warehouse/raca_cor')\n",
    "motsai_df = spark.read.parquet('sus-data-warehouse/motsai')\n"
   ]
  },
  {
   "cell_type": "code",
   "execution_count": 9,
   "id": "9460b264-8042-41f0-9a5b-360db9c85373",
   "metadata": {},
   "outputs": [
    {
     "name": "stdout",
     "output_type": "stream",
     "text": [
      "MUNICIPIOS:\n",
      "root\n",
      " |-- PA_UFMUN: string (nullable = true)\n",
      " |-- NOME: string (nullable = true)\n",
      " |-- MICRORREGIAO: string (nullable = true)\n",
      " |-- MESORREGIAO: string (nullable = true)\n",
      " |-- UF: string (nullable = true)\n",
      " |-- UF_NOME: string (nullable = true)\n",
      " |-- REGIAO_SIGLA: string (nullable = true)\n",
      " |-- REGIAO: string (nullable = true)\n",
      " |-- REGIAO_IMEDIATA: string (nullable = true)\n",
      " |-- REGIAO_INTERMEDIARIA: string (nullable = true)\n",
      "\n",
      "CNES:\n",
      "root\n",
      " |-- CO_TIPO_ESTABELECIMENTO: string (nullable = true)\n",
      " |-- TP_UNIDADE: string (nullable = true)\n",
      " |-- CO_UNIDADE: string (nullable = true)\n",
      " |-- PA_CODUNI: string (nullable = true)\n",
      " |-- NU_CNPJ_MANTENEDORA: string (nullable = true)\n",
      " |-- TP_PFPJ: string (nullable = true)\n",
      " |-- NIVEL_DEP: string (nullable = true)\n",
      " |-- NO_RAZAO_SOCIAL: string (nullable = true)\n",
      " |-- NO_FANTASIA: string (nullable = true)\n",
      " |-- NO_LOGRADOURO: string (nullable = true)\n",
      " |-- NU_ENDERECO: string (nullable = true)\n",
      " |-- NO_COMPLEMENTO: string (nullable = true)\n",
      " |-- NO_BAIRRO: string (nullable = true)\n",
      " |-- CO_CEP: string (nullable = true)\n",
      " |-- CO_REGIAO_SAUDE: string (nullable = true)\n",
      " |-- CO_MICRO_REGIAO: string (nullable = true)\n",
      " |-- CO_DISTRITO_SANITARIO: string (nullable = true)\n",
      " |-- CO_DISTRITO_ADMINISTRATIVO: string (nullable = true)\n",
      " |-- NU_TELEFONE: string (nullable = true)\n",
      " |-- NU_FAX: string (nullable = true)\n",
      " |-- NO_EMAIL: string (nullable = true)\n",
      " |-- NU_CPF: string (nullable = true)\n",
      " |-- NU_CNPJ: string (nullable = true)\n",
      " |-- CO_ATIVIDADE: string (nullable = true)\n",
      " |-- CO_CLIENTELA: string (nullable = true)\n",
      " |-- NU_ALVARA: string (nullable = true)\n",
      " |-- DT_EXPEDICAO: string (nullable = true)\n",
      " |-- TP_ORGAO_EXPEDIDOR: string (nullable = true)\n",
      " |-- DT_VAL_LIC_SANI: string (nullable = true)\n",
      " |-- TP_LIC_SANI: string (nullable = true)\n",
      " |-- CO_TURNO_ATENDIMENTO: string (nullable = true)\n",
      " |-- CO_ESTADO_GESTOR: string (nullable = true)\n",
      " |-- CO_MUNICIPIO_GESTOR: string (nullable = true)\n",
      " |-- DT_ATUALIZACAO: string (nullable = true)\n",
      " |-- CO_USUARIO: string (nullable = true)\n",
      " |-- CO_CPFDIRETORCLN: string (nullable = true)\n",
      " |-- REG_DIRETORCLN: string (nullable = true)\n",
      " |-- ST_ADESAO_FILANTROP: string (nullable = true)\n",
      " |-- CO_MOTIVO_DESAB: string (nullable = true)\n",
      " |-- NO_URL: string (nullable = true)\n",
      " |-- NU_LATITUDE: string (nullable = true)\n",
      " |-- NU_LONGITUDE: string (nullable = true)\n",
      " |-- DT_ATU_GEO: string (nullable = true)\n",
      " |-- NO_USUARIO_GEO: string (nullable = true)\n",
      " |-- CO_NATUREZA_JUR: string (nullable = true)\n",
      " |-- TP_ESTAB_SEMPRE_ABERTO: string (nullable = true)\n",
      " |-- ST_GERACREDITO_GERENTE_SGIF: string (nullable = true)\n",
      " |-- ST_CONEXAO_INTERNET: string (nullable = true)\n",
      " |-- CO_TIPO_UNIDADE: string (nullable = true)\n",
      " |-- NO_FANTASIA_ABREV: string (nullable = true)\n",
      " |-- TP_GESTAO: string (nullable = true)\n",
      " |-- DT_ATUALIZACAO_ORIGEM: string (nullable = true)\n",
      " |-- CO_ATIVIDADE_PRINCIPAL: string (nullable = true)\n",
      " |-- ST_CONTRATO_FORMALIZADO: string (nullable = true)\n",
      " |-- TP_UNIDADE_DESC: string (nullable = true)\n",
      " |-- CO_TIPO_ESTABELECIMENTO_DESC: string (nullable = true)\n",
      "\n",
      "SIGTAP_PROCED:\n",
      "root\n",
      " |-- PA_PROC_ID: string (nullable = true)\n",
      " |-- NO_PROCEDIMENTO: string (nullable = true)\n",
      " |-- TP_COMPLEXIDADE: string (nullable = true)\n",
      " |-- TP_SEXO: string (nullable = true)\n",
      " |-- QT_MAXIMA_EXECUCAO: string (nullable = true)\n",
      " |-- QT_DIAS_PERMANENCIA: string (nullable = true)\n",
      " |-- QT_PONTOS: string (nullable = true)\n",
      " |-- VL_IDADE_MINIMA: string (nullable = true)\n",
      " |-- VL_IDADE_MAXIMA: string (nullable = true)\n",
      " |-- VL_SH: string (nullable = true)\n",
      " |-- VL_SA: string (nullable = true)\n",
      " |-- VL_SP: string (nullable = true)\n",
      " |-- CO_FINANCIAMENTO: string (nullable = true)\n",
      " |-- CO_RUBRICA: string (nullable = true)\n",
      " |-- QT_TEMPO_PERMANENCIA: string (nullable = true)\n",
      " |-- DT_COMPETENCIA: string (nullable = true)\n",
      "\n",
      "CID:\n",
      "root\n",
      " |-- CO_CID: string (nullable = true)\n",
      " |-- NO_CID: string (nullable = true)\n",
      " |-- CO_CATEG: string (nullable = true)\n",
      " |-- NO_CATEG: string (nullable = true)\n",
      " |-- TP_AGRAVO: string (nullable = true)\n",
      " |-- TP_SEXO: string (nullable = true)\n",
      " |-- TP_ESTADIO: string (nullable = true)\n",
      " |-- VL_CAMPOS_IRRADIADOS: string (nullable = true)\n",
      "\n",
      "ANO_MES:\n",
      "root\n",
      " |-- PA_CMP: string (nullable = true)\n",
      " |-- ANO: string (nullable = true)\n",
      " |-- MES: string (nullable = true)\n",
      " |-- MES_NOME: string (nullable = true)\n",
      " |-- MES_ABREV: string (nullable = true)\n",
      " |-- TRIMESTRE: string (nullable = true)\n",
      " |-- SEMESTRE: string (nullable = true)\n",
      "\n",
      "CBOCOD:\n",
      "root\n",
      " |-- PA_CBOCOD: string (nullable = true)\n",
      " |-- CBOCOD_DESC: string (nullable = true)\n",
      "\n",
      "TPUPS:\n",
      "root\n",
      " |-- PA_TPUPS: string (nullable = true)\n",
      " |-- TPUPS_DESC: string (nullable = true)\n",
      "\n",
      "CATEND:\n",
      "root\n",
      " |-- PA_CATEND: string (nullable = true)\n",
      " |-- CATEND_DESC: string (nullable = true)\n",
      "\n",
      "DOCORIG:\n",
      "root\n",
      " |-- PA_DOCORIG: string (nullable = true)\n",
      " |-- DOCORIG_DESC: string (nullable = true)\n",
      "\n",
      "SEXO:\n",
      "root\n",
      " |-- PA_SEXO: string (nullable = true)\n",
      " |-- SEXO_DESC: string (nullable = true)\n",
      "\n",
      "RACA_COR:\n",
      "root\n",
      " |-- PA_RACACOR: string (nullable = true)\n",
      " |-- RACACOR_DESC: string (nullable = true)\n",
      "\n",
      "MOTSAI:\n",
      "root\n",
      " |-- PA_MOTSAI: string (nullable = true)\n",
      " |-- MOTSAI_DESC: string (nullable = true)\n",
      "\n"
     ]
    }
   ],
   "source": [
    "# Verifica os 'schemas' das tabelas de dimensões\n",
    "\n",
    "print('MUNICIPIOS:')\n",
    "municipios_df.printSchema()\n",
    "\n",
    "print('CNES:')\n",
    "cnes_df.printSchema()\n",
    "\n",
    "print('SIGTAP_PROCED:')\n",
    "sigtap_proced_df.printSchema()\n",
    "\n",
    "print('CID:')\n",
    "cid_df.printSchema()\n",
    "\n",
    "print('ANO_MES:')\n",
    "ano_mes_df.printSchema()\n",
    "\n",
    "print('CBOCOD:')\n",
    "cbocod_df.printSchema()\n",
    "\n",
    "print('TPUPS:')\n",
    "tpups_df.printSchema()\n",
    "\n",
    "print('CATEND:')\n",
    "catend_df.printSchema()\n",
    "\n",
    "print('DOCORIG:')\n",
    "docorig_df.printSchema()\n",
    "\n",
    "print('SEXO:')\n",
    "sexo_df.printSchema()\n",
    "\n",
    "print('RACA_COR:')\n",
    "raca_cor_df.printSchema()\n",
    "\n",
    "print('MOTSAI:')\n",
    "motsai_df.printSchema()"
   ]
  },
  {
   "cell_type": "markdown",
   "id": "ff0ea8cf-4b1b-4170-bbfb-3ddd4d171fd7",
   "metadata": {},
   "source": [
    "## Exemplos de Consultas Analíticas\n",
    "O objetivo dessa seção é mostrar alguns exemplos de utilização do modelo dimensional do nosso data warehouse.\n",
    "\n",
    "Aqui, serão realizadas algumas consultas respondendo perguntas hipotéticas sobre a tabela de fatos."
   ]
  },
  {
   "cell_type": "markdown",
   "id": "d8adb4dc-77b5-4e58-b488-5c6e87ddf5f2",
   "metadata": {},
   "source": [
    "### Psicoterapia em Unidades Básicas de Saúde para recorte populacional e geográfico específico\n",
    "Qual é a quantidade de procedimentos e valores aprovados pelo SUS para procedimentos **Psicoterápicos**, durantes os anos de 2018 a 2020, realizados em Unidades Básicas de Saúde, em pacientes Pretos e do sexo Masculino, agrupados por Região do País, Ano e Categoria do CID Primário?"
   ]
  },
  {
   "cell_type": "code",
   "execution_count": 10,
   "id": "c049e2b1-d111-4db4-96e7-f8f32133ed2f",
   "metadata": {},
   "outputs": [
    {
     "name": "stdout",
     "output_type": "stream",
     "text": [
      "+------------+----+--------+--------------------------------------------------------------+-------------+------+\n",
      "|REGIAO_SIGLA|ANO |CO_CATEG|NO_CATEG                                                      |PROCEDIMENTOS|VALOR |\n",
      "+------------+----+--------+--------------------------------------------------------------+-------------+------+\n",
      "|NE          |2018|F20     |Esquizofrenia                                                 |86           |219.30|\n",
      "|NE          |2018|F32     |Episodios depressivos                                         |13           |33.15 |\n",
      "|NE          |2019|F20     |Esquizofrenia                                                 |13           |33.15 |\n",
      "|NE          |2019|F41     |Transtornos ansiosos                                          |1            |2.55  |\n",
      "|NE          |2019|F91     |Disturbios de conduta                                         |1            |2.55  |\n",
      "|NE          |2020|F60     |Transtornos especificos da personalidade                      |16           |40.80 |\n",
      "|NE          |2020|F84     |Transtornos globais do desenvolvimento                        |4            |10.20 |\n",
      "|NE          |2020|F41     |Transtornos ansiosos                                          |0            |0.00  |\n",
      "|S           |2020|F99     |Transtorno mental não especificado em outra parte             |4            |10.20 |\n",
      "|SE          |2018|F91     |Disturbios de conduta                                         |15           |38.25 |\n",
      "|SE          |2018|Z81     |História familiar de transtornos mentais e comportamentais    |9            |22.95 |\n",
      "|SE          |2018|F89     |Transtorno do desenvolvimento psicológico não especificado    |4            |10.20 |\n",
      "|SE          |2018|F90     |Transtornos hipercinéticos                                    |3            |7.65  |\n",
      "|SE          |2018|E66     |Obesidade                                                     |3            |7.65  |\n",
      "|SE          |2018|F33     |Transtorno depressivo recorrente                              |2            |5.10  |\n",
      "|SE          |2018|R48     |Outras disfunções simbolicas não classificadas em outra parte |2            |5.10  |\n",
      "|SE          |2018|F32     |Episodios depressivos                                         |2            |5.10  |\n",
      "|SE          |2018|F48     |Transtornos neuróticos                                        |2            |5.10  |\n",
      "|SE          |2018|F20     |Esquizofrenia                                                 |1            |2.55  |\n",
      "|SE          |2018|F29     |Psicose não-orgânica não especificada                         |1            |2.55  |\n",
      "|SE          |2019|F60     |Transtornos especificos da personalidade                      |34           |86.70 |\n",
      "|SE          |2019|F91     |Disturbios de conduta                                         |15           |38.25 |\n",
      "|SE          |2019|T74     |Síndromes de maus tratos                                      |13           |33.15 |\n",
      "|SE          |2019|F29     |Psicose não-orgânica não especificada                         |13           |33.15 |\n",
      "|SE          |2019|F33     |Transtorno depressivo recorrente                              |8            |20.40 |\n",
      "|SE          |2019|F89     |Transtorno do desenvolvimento psicológico não especificado    |5            |12.75 |\n",
      "|SE          |2019|Z81     |História familiar de transtornos mentais e comportamentais    |5            |12.75 |\n",
      "|SE          |2019|F70     |Retardo mental leve                                           |3            |7.65  |\n",
      "|SE          |2019|F90     |Transtornos hipercinéticos                                    |2            |5.10  |\n",
      "|SE          |2019|F10     |Transtornos mentais e comportamentais devidos ao uso de álcool|2            |5.10  |\n",
      "|SE          |2019|E70     |Disturbios do metabolismo de aminoácidos aromáticos           |1            |2.55  |\n",
      "|SE          |2019|R69     |Causas desconhecidas e não especificadas de morbidade         |1            |2.55  |\n",
      "|SE          |2019|Z56     |Problemas relacionados com o emprego e com o desemprego       |1            |2.55  |\n",
      "|SE          |2020|F33     |Transtorno depressivo recorrente                              |22           |56.10 |\n",
      "|SE          |2020|F20     |Esquizofrenia                                                 |10           |25.50 |\n",
      "|SE          |2020|F91     |Disturbios de conduta                                         |6            |15.30 |\n",
      "|SE          |2020|F60     |Transtornos especificos da personalidade                      |6            |15.30 |\n",
      "|SE          |2020|F29     |Psicose não-orgânica não especificada                         |3            |7.65  |\n",
      "|SE          |2020|F32     |Episodios depressivos                                         |1            |2.55  |\n",
      "|SE          |2020|F70     |Retardo mental leve                                           |1            |2.55  |\n",
      "|SE          |2020|F71     |Retardo mental moderado                                       |1            |2.55  |\n",
      "+------------+----+--------+--------------------------------------------------------------+-------------+------+\n",
      "\n"
     ]
    }
   ],
   "source": [
    "sia_df \\\n",
    "    .join(municipios_df.select('PA_UFMUN', 'REGIAO_SIGLA'), on='PA_UFMUN') \\\n",
    "    .join(ano_mes_df.select('PA_CMP', 'ANO'), on='PA_CMP') \\\n",
    "    .join(cnes_df.select('PA_CODUNI', 'TP_UNIDADE_DESC'), on='PA_CODUNI') \\\n",
    "    .join(sigtap_proced_df.select('PA_PROC_ID', 'NO_PROCEDIMENTO', 'DT_COMPETENCIA'), on=[sia_df['PA_PROC_ID'] == sigtap_proced_df['PA_PROC_ID'], \n",
    "                                                                                          sia_df['PA_CMP'] == sigtap_proced_df['DT_COMPETENCIA']]) \\\n",
    "    .join(cid_df.select('CO_CID', 'NO_CID', 'CO_CATEG', 'NO_CATEG'), on=sia_df['PA_CIDPRI'] == cid_df['CO_CID']) \\\n",
    "    .join(sexo_df, on='PA_SEXO') \\\n",
    "    .join(raca_cor_df, on='PA_RACACOR') \\\n",
    "    .where('TP_UNIDADE_DESC LIKE \"%UNIDADE BASICA%\"') \\\n",
    "    .where('NO_PROCEDIMENTO LIKE \"%PSICOTERAPIA%\"') \\\n",
    "    .where('ANO in (\"2018\", \"2019\", \"2020\")') \\\n",
    "    .where('SEXO_DESC = \"Masculino\"') \\\n",
    "    .where('RACACOR_DESC = \"PRETA\"') \\\n",
    "    .select('REGIAO_SIGLA', 'ANO', 'CO_CATEG', 'NO_CATEG', 'PA_QTDAPR', 'PA_VALAPR' ) \\\n",
    "    .groupBy('REGIAO_SIGLA', 'ANO', 'CO_CATEG', 'NO_CATEG' ) \\\n",
    "    .agg({'PA_QTDAPR':'sum', 'PA_VALAPR':'sum'}) \\\n",
    "    .sort('REGIAO_SIGLA', 'ANO', 'sum(PA_VALAPR)', ascending=[True, True, False]) \\\n",
    "    .withColumn('sum(PA_VALAPR)', F.format_number('sum(PA_VALAPR)', 2)) \\\n",
    "    .withColumnRenamed('sum(PA_QTDAPR)', 'PROCEDIMENTOS') \\\n",
    "    .withColumnRenamed('sum(PA_VALAPR)', 'VALOR') \\\n",
    "    .show(60, truncate=False)"
   ]
  },
  {
   "cell_type": "markdown",
   "id": "e0fcd99b-bf45-4a14-933d-932da6519a96",
   "metadata": {},
   "source": [
    "### Procedimentos e Doenças que mais gastam recursos do SUS na cidade de Salto-SP em atendimentos ambulatoriais"
   ]
  },
  {
   "cell_type": "markdown",
   "id": "acaec72b-13b2-4fba-a1c1-daa120a038f4",
   "metadata": {},
   "source": [
    "Quais procedimentos mais demandaram recursos financeiros do SUS na cidade de Salto-SP no ano de 2020?"
   ]
  },
  {
   "cell_type": "code",
   "execution_count": 11,
   "id": "21af04b4-eecd-4c6b-8455-739de1513a57",
   "metadata": {},
   "outputs": [
    {
     "name": "stdout",
     "output_type": "stream",
     "text": [
      "+--------------------------------------------------------------------------------------------------------------------+-------------+----------+\n",
      "|NO_PROCEDIMENTO                                                                                                     |PROCEDIMENTOS|VALOR     |\n",
      "+--------------------------------------------------------------------------------------------------------------------+-------------+----------+\n",
      "|TOMOGRAFIA COMPUTADORIZADA DE TORAX                                                                                 |1750         |238,717.51|\n",
      "|ATENDIMENTO FISIOTERAPÊUTICO NAS ALTERAÇÕES MOTORAS                                                                 |20799        |97,131.33 |\n",
      "|TOMOGRAFIA COMPUTADORIZADA DO CRANIO                                                                                |585          |57,002.40 |\n",
      "|EXAME ANATOMO-PATOLÓGICO PARA CONGELAMENTO / PARAFINA POR PEÇA CIRURGICA OU POR BIOPSIA (EXCETO COLO UTERINO E MAMA)|1686         |40,464.00 |\n",
      "|TOMOGRAFIA COMPUTADORIZADA DE PELVE / BACIA / ABDOMEN INFERIOR                                                      |239          |33,132.57 |\n",
      "|TOMOGRAFIA COMPUTADORIZADA DE ABDOMEN SUPERIOR                                                                      |237          |32,855.31 |\n",
      "|ACOMPANHAMENTO NEUROPSICOLÓGICO DE PACIENTE EM REABILITAÇÃO                                                         |1317         |23,271.39 |\n",
      "|ULTRASSONOGRAFIA DE ABDOMEN TOTAL                                                                                   |610          |23,149.50 |\n",
      "|ATENDIMENTO / ACOMPANHAMENTO DE PACIENTE EM REABILITACAO DO DESENVOLVIMENTO NEUROPSICOMOTOR                         |1149         |20,302.83 |\n",
      "|COLONOSCOPIA (COLOSCOPIA)                                                                                           |176          |19,828.16 |\n",
      "|ESOFAGOGASTRODUODENOSCOPIA                                                                                          |292          |14,062.72 |\n",
      "|ULTRASSONOGRAFIA OBSTETRICA                                                                                         |574          |13,890.80 |\n",
      "|IMUNOHISTOQUIMICA DE NEOPLASIAS MALIGNAS (POR MARCADOR)                                                             |120          |11,040.00 |\n",
      "|TOMOGRAFIA COMPUTADORIZADA DE COLUNA LOMBO-SACRA C/ OU S/ CONTRASTE                                                 |93           |9,402.30  |\n",
      "|ULTRASSONOGRAFIA MAMARIA BILATERAL                                                                                  |333          |8,058.60  |\n",
      "|ULTRASSONOGRAFIA DE APARELHO URINÁRIO                                                                               |266          |6,437.20  |\n",
      "|ATENDIMENTO FISIOTERAPÊUTICO EM PACIENTES COM DISTÚRBIOS NEURO-CINÉTICO-FUNCIONAIS SEM COMPLICAÇÕES SISTÊMICAS      |965          |4,506.55  |\n",
      "|TOMOGRAFIA COMPUTADORIZADA DE COLUNA CERVICAL C/ OU S/ CONTRASTE                                                    |46           |3,990.96  |\n",
      "|RESSONANCIA MAGNETICA DE COLUNA LOMBO-SACRA                                                                         |12           |3,225.00  |\n",
      "|RESSONANCIA MAGNETICA DE MEMBRO INFERIOR (UNILATERAL)                                                               |11           |2,956.25  |\n",
      "+--------------------------------------------------------------------------------------------------------------------+-------------+----------+\n",
      "only showing top 20 rows\n",
      "\n"
     ]
    }
   ],
   "source": [
    "sia_df \\\n",
    "    .join(municipios_df.select('PA_UFMUN', 'NOME', 'UF'), on='PA_UFMUN') \\\n",
    "    .join(ano_mes_df.select('PA_CMP', 'ANO'), on='PA_CMP') \\\n",
    "    .join(cid_df.select('CO_CID', 'NO_CID', 'CO_CATEG', 'NO_CATEG'), on=sia_df['PA_CIDPRI'] == cid_df['CO_CID']) \\\n",
    "    .join(sigtap_proced_df.select('PA_PROC_ID', 'NO_PROCEDIMENTO', 'DT_COMPETENCIA'), on=[sia_df['PA_PROC_ID'] == sigtap_proced_df['PA_PROC_ID'], \n",
    "                                                                                          sia_df['PA_CMP'] == sigtap_proced_df['DT_COMPETENCIA']]) \\\n",
    "    .where('ANO = \"2020\"') \\\n",
    "    .where('NOME ILIKE \"SALTO\" AND UF = \"SP\"') \\\n",
    "    .select('NO_PROCEDIMENTO', 'PA_QTDAPR', 'PA_VALAPR') \\\n",
    "    .groupBy('NO_PROCEDIMENTO') \\\n",
    "    .agg({'PA_QTDAPR':'sum', 'PA_VALAPR':'sum'}) \\\n",
    "    .sort('sum(PA_VALAPR)', ascending=False) \\\n",
    "    .withColumn('sum(PA_VALAPR)', F.format_number('sum(PA_VALAPR)', 2)) \\\n",
    "    .withColumnRenamed('sum(PA_QTDAPR)', 'PROCEDIMENTOS') \\\n",
    "    .withColumnRenamed('sum(PA_VALAPR)', 'VALOR') \\\n",
    "    .show(truncate=False)"
   ]
  },
  {
   "cell_type": "markdown",
   "id": "1000add0-ce15-4e8f-889e-ff117f3f6c6b",
   "metadata": {},
   "source": [
    "De acordo com o resultado da consulta acima, é possível perceber que procedimentos de Tomografia Computadorizada são os que mais demandaram recursos financeiros do SUS para Salto-SP, em 2020.\n",
    "\n",
    "Quais CIDs (Classificação Internacional de Doenças) levam à realização de procedimentos de tomografica computadorizada em Salto-SP? A consulta abaixo responde essa pergunta."
   ]
  },
  {
   "cell_type": "code",
   "execution_count": 12,
   "id": "d2884f27-20b4-4128-bbc8-8b8546ffb954",
   "metadata": {},
   "outputs": [
    {
     "name": "stdout",
     "output_type": "stream",
     "text": [
      "+--------+------+--------------------------------------------------------------------------------+-------------+----------+\n",
      "|CO_CATEG|CO_CID|NO_CID                                                                          |PROCEDIMENTOS|VALOR     |\n",
      "+--------+------+--------------------------------------------------------------------------------+-------------+----------+\n",
      "|R52     |R529  |Dor não especificada                                                            |2899         |366,800.78|\n",
      "|R10     |R104  |Outras dores abdominais e as não especificadas                                  |59           |7,980.39  |\n",
      "|I64     |I64   |Acidente vascular cerebral, não especificado como hemorrágico ou isquêmico      |74           |7,210.56  |\n",
      "|M79     |M796  |Dor em membro                                                                   |17           |1,683.35  |\n",
      "|M51     |M510  |Transtornos de discos lombares e de outros discos intervertebrais com mielopatia|1            |101.10    |\n",
      "|S52     |S520  |Fratura da extremidade superior do cúbito [ulna]                                |1            |86.75     |\n",
      "|T14     |T141  |Ferimento de região não especificada do corpo                                   |1            |86.75     |\n",
      "+--------+------+--------------------------------------------------------------------------------+-------------+----------+\n",
      "\n"
     ]
    }
   ],
   "source": [
    "sia_df \\\n",
    "    .join(municipios_df.select('PA_UFMUN', 'NOME', 'UF'), on='PA_UFMUN') \\\n",
    "    .join(ano_mes_df.select('PA_CMP', 'ANO'), on='PA_CMP') \\\n",
    "    .join(cid_df.select('CO_CID', 'NO_CID', 'CO_CATEG', 'NO_CATEG'), on=sia_df['PA_CIDPRI'] == cid_df['CO_CID']) \\\n",
    "    .join(sigtap_proced_df.select('PA_PROC_ID', 'NO_PROCEDIMENTO', 'DT_COMPETENCIA'), on=[sia_df['PA_PROC_ID'] == sigtap_proced_df['PA_PROC_ID'], \n",
    "                                                                                          sia_df['PA_CMP'] == sigtap_proced_df['DT_COMPETENCIA']]) \\\n",
    "    .where('ANO = \"2020\"') \\\n",
    "    .where('NOME ILIKE \"salto\" AND UF = \"SP\"') \\\n",
    "    .where('NO_PROCEDIMENTO ILIKE \"%tomografia%computadorizada%\"') \\\n",
    "    .select('CO_CATEG', 'CO_CID', 'NO_CID', 'PA_QTDAPR', 'PA_VALAPR') \\\n",
    "    .groupBy('CO_CATEG', 'CO_CID', 'NO_CID') \\\n",
    "    .agg({'PA_QTDAPR':'sum', 'PA_VALAPR':'sum'}) \\\n",
    "    .sort('sum(PA_VALAPR)', ascending=False) \\\n",
    "    .withColumn('sum(PA_VALAPR)', F.format_number('sum(PA_VALAPR)', 2)) \\\n",
    "    .withColumnRenamed('sum(PA_QTDAPR)', 'PROCEDIMENTOS') \\\n",
    "    .withColumnRenamed('sum(PA_VALAPR)', 'VALOR') \\\n",
    "    .show(truncate=False)"
   ]
  },
  {
   "cell_type": "markdown",
   "id": "c03ca918-1bb8-4d2f-a6a4-a0dc5b05d825",
   "metadata": {},
   "source": [
    "Em segundo lugar, o procedimento **Atendimento fisioterapêutico nas alterações motoras** também gasta recursos consideráveis do SUS em Salto-SP.\n",
    "Quais CIDs fazem uso desse procedimento?\n",
    "A consulta abaixo responde a essa pergunta."
   ]
  },
  {
   "cell_type": "code",
   "execution_count": 13,
   "id": "0b290f29-592a-4804-859e-e817507f9e9f",
   "metadata": {},
   "outputs": [
    {
     "name": "stdout",
     "output_type": "stream",
     "text": [
      "+--------+------+----------------------------------------------------------+-------------+---------+\n",
      "|CO_CATEG|CO_CID|NO_CID                                                    |PROCEDIMENTOS|VALOR    |\n",
      "+--------+------+----------------------------------------------------------+-------------+---------+\n",
      "|M96     |M969  |Transtorno osteomuscular não especificado pós-procedimento|10650        |49,735.50|\n",
      "|M54     |M544  |Lumbago com ciática                                       |8929         |41,698.43|\n",
      "|M25     |M255  |Dor articular                                             |861          |4,020.87 |\n",
      "|M65     |M654  |Tenossinovite estilóide radial [de quervain]              |296          |1,382.32 |\n",
      "|G81     |G811  |Hemiplegia espástica                                      |25           |116.75   |\n",
      "|M65     |M659  |Sinovite e tenossinovite não especificadas                |19           |88.73    |\n",
      "|M25     |M256  |Rigidez articular não classificada em outra parte         |18           |84.06    |\n",
      "|M75     |M754  |Síndrome de colisão do ombro                              |1            |4.67     |\n",
      "+--------+------+----------------------------------------------------------+-------------+---------+\n",
      "\n"
     ]
    }
   ],
   "source": [
    "sia_df \\\n",
    "    .join(municipios_df.select('PA_UFMUN', 'NOME', 'UF'), on='PA_UFMUN') \\\n",
    "    .join(ano_mes_df.select('PA_CMP', 'ANO'), on='PA_CMP') \\\n",
    "    .join(cid_df.select('CO_CID', 'NO_CID', 'CO_CATEG', 'NO_CATEG'), on=sia_df['PA_CIDPRI'] == cid_df['CO_CID']) \\\n",
    "    .join(sigtap_proced_df.select('PA_PROC_ID', 'NO_PROCEDIMENTO', 'DT_COMPETENCIA'), on=[sia_df['PA_PROC_ID'] == sigtap_proced_df['PA_PROC_ID'], \n",
    "                                                                                          sia_df['PA_CMP'] == sigtap_proced_df['DT_COMPETENCIA']]) \\\n",
    "    .where('ANO = \"2020\"') \\\n",
    "    .where('NOME ILIKE \"salto\" AND UF = \"SP\"') \\\n",
    "    .where('NO_PROCEDIMENTO ILIKE \"%ATENDIMENTO FISIOTERAPÊUTICO NAS ALTERAÇÕES MOTORAS%\"') \\\n",
    "    .select('CO_CATEG', 'CO_CID', 'NO_CID', 'PA_QTDAPR', 'PA_VALAPR') \\\n",
    "    .groupBy('CO_CATEG', 'CO_CID', 'NO_CID') \\\n",
    "    .agg({'PA_QTDAPR':'sum', 'PA_VALAPR':'sum'}) \\\n",
    "    .sort('sum(PA_VALAPR)', ascending=False) \\\n",
    "    .withColumn('sum(PA_VALAPR)', F.format_number('sum(PA_VALAPR)', 2)) \\\n",
    "    .withColumnRenamed('sum(PA_QTDAPR)', 'PROCEDIMENTOS') \\\n",
    "    .withColumnRenamed('sum(PA_VALAPR)', 'VALOR') \\\n",
    "    .show(truncate=False)"
   ]
  },
  {
   "cell_type": "markdown",
   "id": "45e93efb-e04e-462c-9280-62fb2550aeb4",
   "metadata": {},
   "source": [
    "Qual é o perfil dos pacientes que mais utilizaram o procedimento **Atendimento fisioterapêutico nas alterações motoras** em Salto-SP em 2020?"
   ]
  },
  {
   "cell_type": "code",
   "execution_count": 14,
   "id": "5b9e7bd1-4bff-41b1-91a0-b7da2c7f8822",
   "metadata": {},
   "outputs": [
    {
     "name": "stdout",
     "output_type": "stream",
     "text": [
      "+---------+--------------+-------------+---------+-----------+\n",
      "|SEXO_DESC|RACACOR_DESC  |PROCEDIMENTOS|VALOR    |IDADE_MEDIA|\n",
      "+---------+--------------+-------------+---------+-----------+\n",
      "|Feminino |BRANCA        |9429         |44,033.43|53.9       |\n",
      "|Masculino|BRANCA        |5857         |27,352.19|47.2       |\n",
      "|Feminino |PARDA         |2208         |10,311.36|51.8       |\n",
      "|Masculino|PARDA         |1588         |7,415.96 |47.8       |\n",
      "|Feminino |PRETA         |1011         |4,721.37 |54.8       |\n",
      "|Masculino|PRETA         |606          |2,830.02 |47.3       |\n",
      "|Feminino |AMARELA       |61           |284.87   |48.4       |\n",
      "|Masculino|SEM INFORMAÇÃO|26           |121.42   |55.5       |\n",
      "|Feminino |SEM INFORMAÇÃO|12           |56.04    |58.3       |\n",
      "|Masculino|AMARELA       |1            |4.67     |59.0       |\n",
      "+---------+--------------+-------------+---------+-----------+\n",
      "\n"
     ]
    }
   ],
   "source": [
    "sia_df \\\n",
    "    .join(municipios_df.select('PA_UFMUN', 'NOME', 'UF'), on='PA_UFMUN') \\\n",
    "    .join(ano_mes_df.select('PA_CMP', 'ANO'), on='PA_CMP') \\\n",
    "    .join(sigtap_proced_df.select('PA_PROC_ID', 'NO_PROCEDIMENTO', 'DT_COMPETENCIA'), on=[sia_df['PA_PROC_ID'] == sigtap_proced_df['PA_PROC_ID'], \n",
    "                                                                                          sia_df['PA_CMP'] == sigtap_proced_df['DT_COMPETENCIA']]) \\\n",
    "    .join(sexo_df, on='PA_SEXO') \\\n",
    "    .join(raca_cor_df, on='PA_RACACOR') \\\n",
    "    .where('ANO = \"2020\"') \\\n",
    "    .where('NOME ILIKE \"salto\" AND UF = \"SP\"') \\\n",
    "    .where('NO_PROCEDIMENTO ILIKE \"%ATENDIMENTO FISIOTERAPÊUTICO NAS ALTERAÇÕES MOTORAS%\"') \\\n",
    "    .select('SEXO_DESC', 'RACACOR_DESC', 'PA_IDADE', 'PA_QTDAPR', 'PA_VALAPR') \\\n",
    "    .groupBy('SEXO_DESC', 'RACACOR_DESC') \\\n",
    "    .agg({'PA_IDADE':'avg', 'PA_QTDAPR':'sum', 'PA_VALAPR':'sum'}) \\\n",
    "    .sort('sum(PA_VALAPR)', ascending=False) \\\n",
    "    .withColumn('sum(PA_VALAPR)', F.format_number('sum(PA_VALAPR)', 2)) \\\n",
    "    .withColumn('avg(PA_IDADE)', F.round('avg(PA_IDADE)', 1)) \\\n",
    "    .withColumnRenamed('avg(PA_IDADE)', 'IDADE_MEDIA') \\\n",
    "    .withColumnRenamed('sum(PA_QTDAPR)', 'PROCEDIMENTOS') \\\n",
    "    .withColumnRenamed('sum(PA_VALAPR)', 'VALOR') \\\n",
    "    .show(truncate=False)"
   ]
  },
  {
   "cell_type": "markdown",
   "id": "4bc33eaf-8805-4b9d-8449-229206715727",
   "metadata": {},
   "source": [
    "## Encerramento da sessão Spark"
   ]
  },
  {
   "cell_type": "code",
   "execution_count": 15,
   "id": "4a211ea0-30bc-4dc8-bb8a-8a56347f742f",
   "metadata": {},
   "outputs": [],
   "source": [
    "spark.stop()"
   ]
  },
  {
   "cell_type": "code",
   "execution_count": null,
   "id": "0f8ddb47-1756-4892-ad92-45eae79f22b5",
   "metadata": {},
   "outputs": [],
   "source": []
  }
 ],
 "metadata": {
  "kernelspec": {
   "display_name": "Python 3 (ipykernel)",
   "language": "python",
   "name": "python3"
  },
  "language_info": {
   "codemirror_mode": {
    "name": "ipython",
    "version": 3
   },
   "file_extension": ".py",
   "mimetype": "text/x-python",
   "name": "python",
   "nbconvert_exporter": "python",
   "pygments_lexer": "ipython3",
   "version": "3.10.5"
  }
 },
 "nbformat": 4,
 "nbformat_minor": 5
}
