{
 "cells": [
  {
   "cell_type": "markdown",
   "id": "68fd55b2-9f95-40d7-a9c0-8a7c07b1d580",
   "metadata": {},
   "source": [
    "# Criação de data warehouse para dados públicos de atendimentos ambulatoriais do SUS\n",
    "\n",
    "Esse Jupyter notebook é parte do trabalho de conclusão de curso do MBA em Inteligência Artificial e Big Data, oferecido pelo ICMC - USP, do aluno Danilo Gouvea Silva, da Turma 3.\n",
    "\n",
    "Parte do capítulo de Avaliação Experimental da monografia, nesse primeiro notebook (`sus_dw_etl.ipynb`), está a execução do processo de ETL - \"Extract, Transform and Load\" - dos dados brutos de saúde provenientes dos bancos de dados públicos do DATASUS. Após o processo de ETL, o data warehouse estará organizado em 1 tabela de fatos e 12 tabelas de dimensões, todas armazendas em arquivos Apache Parquet.\n",
    "\n",
    "No segundo notebook (`sus_dw_eda.ipynb`), todas as tabelas serão carregadas e estarão prontras para a análise exploratória através de consultas analíticas. \n",
    "\n",
    "Esse notebook foi criado e utilizado localmente. Para utilizá-lo, é necessário que estejam localmente instalados o Spark, o Java e o Python. Também é recomendado a criação de um ambiente virtual Python para a instalação de todos pacotes de Python necessários, que estão contidos no arquivo de requisitos `requirements.txt`, que disponibilizado junto a esse notebook.\n",
    "\n",
    "É importante ressaltar que o objetivo desse notebook não é demonstrar, nem guiar a instalação e configuração do Spark numa máquina local."
   ]
  },
  {
   "cell_type": "markdown",
   "id": "f94a7bd3-875f-4680-8769-34ba69a22d29",
   "metadata": {},
   "source": [
    "## Criação da sessão Spark\n",
    "\n",
    "Nessa seção, é criado uma sessão local de Spark, com apenas um <b>nó mestre</b> e sem <b>nós de trabalho</b> e <b>gerenciador de cluster</b>. As tarefas (<i>tasks</i>) serão executadas pelo <i>driver</i> localizado no nó mestre e utilizarão o máximo de núcleos lógicos de processamento disponíveis no processador local."
   ]
  },
  {
   "cell_type": "code",
   "execution_count": 1,
   "id": "cb146a9d-9d06-4080-b664-a251a830a646",
   "metadata": {
    "scrolled": true
   },
   "outputs": [
    {
     "name": "stderr",
     "output_type": "stream",
     "text": [
      "java version \"1.8.0_411\"\n",
      "Java(TM) SE Runtime Environment (build 1.8.0_411-b09)\n",
      "Java HotSpot(TM) 64-Bit Server VM (build 25.411-b09, mixed mode)\n"
     ]
    },
    {
     "name": "stdout",
     "output_type": "stream",
     "text": [
      "Python 3.10.5\n"
     ]
    },
    {
     "name": "stderr",
     "output_type": "stream",
     "text": [
      "Welcome to\n",
      "      ____              __\n",
      "     / __/__  ___ _____/ /__\n",
      "    _\\ \\/ _ \\/ _ `/ __/  '_/\n",
      "   /___/ .__/\\_,_/_/ /_/\\_\\   version 3.5.1\n",
      "      /_/\n",
      "                        \n",
      "Using Scala version 2.12.18, Java HotSpot(TM) 64-Bit Server VM, 1.8.0_381\n",
      "Branch HEAD\n",
      "Compiled by user heartsavior on 2024-02-15T11:24:58Z\n",
      "Revision fd86f85e181fc2dc0f50a096855acf83a6cc5d9c\n",
      "Url https://github.com/apache/spark\n",
      "Type --help for more information.\n"
     ]
    }
   ],
   "source": [
    "# Verifica as versões instaladas de Java, Python e Spark\n",
    "\n",
    "!java -version\n",
    "!python --version\n",
    "!pyspark --version"
   ]
  },
  {
   "cell_type": "code",
   "execution_count": 2,
   "id": "19534403-7fff-47e1-adc8-1f577f8589ac",
   "metadata": {},
   "outputs": [
    {
     "name": "stdout",
     "output_type": "stream",
     "text": [
      "Requirement already satisfied: findspark in c:\\mba\\tcc\\venv\\lib\\site-packages (2.0.1)\n"
     ]
    }
   ],
   "source": [
    "# Configura corretamente as variáveis de ambiente do Spark\n",
    "\n",
    "!pip install findspark\n",
    "import findspark\n",
    "findspark.init()"
   ]
  },
  {
   "cell_type": "code",
   "execution_count": 3,
   "id": "c904fab5-aaa3-4c92-91e4-4c650a23eb40",
   "metadata": {},
   "outputs": [
    {
     "data": {
      "text/html": [
       "\n",
       "            <div>\n",
       "                <p><b>SparkSession - in-memory</b></p>\n",
       "                \n",
       "        <div>\n",
       "            <p><b>SparkContext</b></p>\n",
       "\n",
       "            <p><a href=\"http://192.168.0.22:4040\">Spark UI</a></p>\n",
       "\n",
       "            <dl>\n",
       "              <dt>Version</dt>\n",
       "                <dd><code>v3.5.1</code></dd>\n",
       "              <dt>Master</dt>\n",
       "                <dd><code>local[*]</code></dd>\n",
       "              <dt>AppName</dt>\n",
       "                <dd><code>sus_dw_etl</code></dd>\n",
       "            </dl>\n",
       "        </div>\n",
       "        \n",
       "            </div>\n",
       "        "
      ],
      "text/plain": [
       "<pyspark.sql.session.SparkSession at 0x1f6ba4c1210>"
      ]
     },
     "execution_count": 3,
     "metadata": {},
     "output_type": "execute_result"
    }
   ],
   "source": [
    "# Cria a sessão de Spark\n",
    "\n",
    "from pyspark.sql import SparkSession\n",
    "\n",
    "spark = SparkSession.builder \\\n",
    "    .appName('sus_dw_etl') \\\n",
    "    .master('local[*]') \\\n",
    "    .getOrCreate()\n",
    "\n",
    "spark"
   ]
  },
  {
   "cell_type": "markdown",
   "id": "9b4a0c77-9d3c-4f9a-84fe-4d17d9955ee5",
   "metadata": {},
   "source": [
    "## Carregamento da tabela de fatos SIASUS - SERVIÇO DE INFORMAÇÕES AMBULATORIAIS DO SUS (`sia_df`)"
   ]
  },
  {
   "cell_type": "code",
   "execution_count": 4,
   "id": "b1930da2-f940-4793-acee-8513d003b86d",
   "metadata": {},
   "outputs": [],
   "source": [
    "# Importa as funções e tipos de dados do Spark\n",
    "\n",
    "import pyspark.sql.functions as F\n",
    "import pyspark.sql.types as T"
   ]
  },
  {
   "cell_type": "code",
   "execution_count": 20,
   "id": "fcdbe6ea-a9de-4133-96f2-63a6452095c5",
   "metadata": {},
   "outputs": [],
   "source": [
    "# Carrega num dataframe os arquivos da tabela SIA - Atendimentos Ambulatoriais\n",
    "\n",
    "sia_df = spark.read.option('mergeSchema', 'true').parquet('data/tb_sia_pa')"
   ]
  },
  {
   "cell_type": "code",
   "execution_count": 6,
   "id": "dd7174fb-108a-4605-a077-53aff29eb96c",
   "metadata": {},
   "outputs": [
    {
     "name": "stdout",
     "output_type": "stream",
     "text": [
      "Número de registros: 1,742,743,969\n"
     ]
    }
   ],
   "source": [
    "# Conta o número total de registros\n",
    "\n",
    "sia_df_count = sia_df.count()\n",
    "\n",
    "print(f'Número de registros: {sia_df_count:,}')"
   ]
  },
  {
   "cell_type": "code",
   "execution_count": 7,
   "id": "7bc9ba62-f75d-4f60-a141-4711424d4ec6",
   "metadata": {},
   "outputs": [
    {
     "data": {
      "text/plain": [
       "DataFrame[PA_CODUNI: string, PA_GESTAO: string, PA_CONDIC: string, PA_UFMUN: string, PA_REGCT: string, PA_INCOUT: string, PA_INCURG: string, PA_TPUPS: string, PA_TIPPRE: string, PA_MN_IND: string, PA_CNPJCPF: string, PA_CNPJMNT: string, PA_CNPJ_CC: string, PA_MVM: string, PA_CMP: string, PA_PROC_ID: string, PA_TPFIN: string, PA_SUBFIN: string, PA_NIVCPL: string, PA_DOCORIG: string, PA_AUTORIZ: string, PA_CNSMED: string, PA_CBOCOD: string, PA_MOTSAI: string, PA_OBITO: string, PA_ENCERR: string, PA_PERMAN: string, PA_ALTA: string, PA_TRANSF: string, PA_CIDPRI: string, PA_CIDSEC: string, PA_CIDCAS: string, PA_CATEND: string, PA_IDADE: string, IDADEMIN: string, IDADEMAX: string, PA_FLIDADE: string, PA_SEXO: string, PA_RACACOR: string, PA_MUNPCN: string, PA_QTDPRO: string, PA_QTDAPR: string, PA_VALPRO: string, PA_VALAPR: string, PA_UFDIF: string, PA_MNDIF: string, PA_DIF_VAL: string, NU_VPA_TOT: string, NU_PA_TOT: string, PA_INDICA: string, PA_CODOCO: string, PA_FLQT: string, PA_FLER: string, PA_ETNIA: string, PA_VL_CF: string, PA_VL_CL: string, PA_VL_INC: string, PA_SRV_C: string, PA_INE: string, PA_NAT_JUR: string]"
      ]
     },
     "execution_count": 7,
     "metadata": {},
     "output_type": "execute_result"
    }
   ],
   "source": [
    "# Exibe a lista de colunas do dataframe SIA\n",
    "\n",
    "sia_df \\\n",
    "    .select('*')"
   ]
  },
  {
   "cell_type": "code",
   "execution_count": 21,
   "id": "1d0107a6-7d5f-4659-b517-b1f05f56425a",
   "metadata": {},
   "outputs": [
    {
     "name": "stdout",
     "output_type": "stream",
     "text": [
      "root\n",
      " |-- PA_CODUNI: string (nullable = true)\n",
      " |-- PA_GESTAO: string (nullable = true)\n",
      " |-- PA_CONDIC: string (nullable = true)\n",
      " |-- PA_UFMUN: string (nullable = true)\n",
      " |-- PA_REGCT: string (nullable = true)\n",
      " |-- PA_INCOUT: string (nullable = true)\n",
      " |-- PA_INCURG: string (nullable = true)\n",
      " |-- PA_TPUPS: string (nullable = true)\n",
      " |-- PA_TIPPRE: string (nullable = true)\n",
      " |-- PA_MN_IND: string (nullable = true)\n",
      " |-- PA_CNPJCPF: string (nullable = true)\n",
      " |-- PA_CNPJMNT: string (nullable = true)\n",
      " |-- PA_CNPJ_CC: string (nullable = true)\n",
      " |-- PA_MVM: string (nullable = true)\n",
      " |-- PA_CMP: string (nullable = true)\n",
      " |-- PA_PROC_ID: string (nullable = true)\n",
      " |-- PA_TPFIN: string (nullable = true)\n",
      " |-- PA_SUBFIN: string (nullable = true)\n",
      " |-- PA_NIVCPL: string (nullable = true)\n",
      " |-- PA_DOCORIG: string (nullable = true)\n",
      " |-- PA_AUTORIZ: string (nullable = true)\n",
      " |-- PA_CNSMED: string (nullable = true)\n",
      " |-- PA_CBOCOD: string (nullable = true)\n",
      " |-- PA_MOTSAI: string (nullable = true)\n",
      " |-- PA_OBITO: string (nullable = true)\n",
      " |-- PA_ENCERR: string (nullable = true)\n",
      " |-- PA_PERMAN: string (nullable = true)\n",
      " |-- PA_ALTA: string (nullable = true)\n",
      " |-- PA_TRANSF: string (nullable = true)\n",
      " |-- PA_CIDPRI: string (nullable = true)\n",
      " |-- PA_CIDSEC: string (nullable = true)\n",
      " |-- PA_CIDCAS: string (nullable = true)\n",
      " |-- PA_CATEND: string (nullable = true)\n",
      " |-- PA_IDADE: string (nullable = true)\n",
      " |-- IDADEMIN: string (nullable = true)\n",
      " |-- IDADEMAX: string (nullable = true)\n",
      " |-- PA_FLIDADE: string (nullable = true)\n",
      " |-- PA_SEXO: string (nullable = true)\n",
      " |-- PA_RACACOR: string (nullable = true)\n",
      " |-- PA_MUNPCN: string (nullable = true)\n",
      " |-- PA_QTDPRO: string (nullable = true)\n",
      " |-- PA_QTDAPR: string (nullable = true)\n",
      " |-- PA_VALPRO: string (nullable = true)\n",
      " |-- PA_VALAPR: string (nullable = true)\n",
      " |-- PA_UFDIF: string (nullable = true)\n",
      " |-- PA_MNDIF: string (nullable = true)\n",
      " |-- PA_DIF_VAL: string (nullable = true)\n",
      " |-- NU_VPA_TOT: string (nullable = true)\n",
      " |-- NU_PA_TOT: string (nullable = true)\n",
      " |-- PA_INDICA: string (nullable = true)\n",
      " |-- PA_CODOCO: string (nullable = true)\n",
      " |-- PA_FLQT: string (nullable = true)\n",
      " |-- PA_FLER: string (nullable = true)\n",
      " |-- PA_ETNIA: string (nullable = true)\n",
      " |-- PA_VL_CF: string (nullable = true)\n",
      " |-- PA_VL_CL: string (nullable = true)\n",
      " |-- PA_VL_INC: string (nullable = true)\n",
      " |-- PA_SRV_C: string (nullable = true)\n",
      " |-- PA_INE: string (nullable = true)\n",
      " |-- PA_NAT_JUR: string (nullable = true)\n",
      "\n"
     ]
    }
   ],
   "source": [
    "sia_df.printSchema()"
   ]
  },
  {
   "cell_type": "code",
   "execution_count": 8,
   "id": "de53e5b9-ac68-43fd-8bf2-532f9f9d0f79",
   "metadata": {},
   "outputs": [
    {
     "data": {
      "text/plain": [
       "60"
      ]
     },
     "execution_count": 8,
     "metadata": {},
     "output_type": "execute_result"
    }
   ],
   "source": [
    "len(sia_df.columns)"
   ]
  },
  {
   "cell_type": "code",
   "execution_count": 9,
   "id": "9e8a668c-586a-457e-aa5f-48c6fd3573f8",
   "metadata": {},
   "outputs": [],
   "source": [
    "# Seleciona as colunas de interesse da tabela SIA_PA\n",
    "\n",
    "sia_df = sia_df \\\n",
    "    .selectExpr('PA_CMP',  # Data da Realização do Procedimento / Competência (AAAAMM)\n",
    "                'PA_CODUNI',  # Código do SCNES do estabelecimento de saúde\n",
    "                'PA_TPUPS',  # Tipo do estabelecimento\n",
    "                'PA_UFMUN',  # Município onde está localizado o estabelecimento\n",
    "                'PA_PROC_ID',  # Código do procedimento ambulatorial\n",
    "                'PA_DOCORIG',  # Instrumento de registro: C: BPA-C, I: BPA-I, P: APAC-P, S: APAC-S, A: RAAS-AD, B: RAAS-Psico\n",
    "                'PA_CNSMED',  # Número CNS do profissional de saúde executante \n",
    "                'PA_CBOCOD',  # Código de ocupação brasileira do profissional\n",
    "                'PA_MOTSAI',  # Motivo de saída ou zeros, caso não tenha\n",
    "                'PA_CIDPRI',  # CID principal (APAC ou BPA-I)\n",
    "                'PA_CIDSEC',  # CID secundário (APAC)\n",
    "                'PA_CIDCAS',  # CID causas associadas (APAC)\n",
    "                'PA_CATEND',  # Caráter de Atendimento (APAC ou BPA-I)\n",
    "                'cast(PA_IDADE as int)',  # Idade do paciente em anos\n",
    "                'PA_SEXO',  # Sexo do paciente\n",
    "                'PA_RACACOR',  # Raça/cor do paciente\n",
    "                'PA_MUNPCN',  # Município de residência do paciente ou do estabelecimento, caso não se tenha à identificação do paciente o que ocorre no (BPA)  # BPA-C\n",
    "                'cast(PA_QTDAPR as int)',  # Quantidade aprovado do procedimento\n",
    "                'cast(PA_VALAPR as float)')  # Valor aprovado do procedimento\n"
   ]
  },
  {
   "cell_type": "code",
   "execution_count": 10,
   "id": "4b81e6fb-6f3d-4384-901b-8b76473b62f9",
   "metadata": {},
   "outputs": [
    {
     "data": {
      "text/plain": [
       "19"
      ]
     },
     "execution_count": 10,
     "metadata": {},
     "output_type": "execute_result"
    }
   ],
   "source": [
    "len(sia_df.columns)"
   ]
  },
  {
   "cell_type": "code",
   "execution_count": 11,
   "id": "bb4d1fb5-f25d-45c8-81a3-9f2540d3f819",
   "metadata": {},
   "outputs": [
    {
     "data": {
      "text/plain": [
       "1742743969"
      ]
     },
     "execution_count": 11,
     "metadata": {},
     "output_type": "execute_result"
    }
   ],
   "source": [
    "sia_df.count()"
   ]
  },
  {
   "cell_type": "code",
   "execution_count": 9,
   "id": "9e46dcb8-cf61-42ee-b49e-e79dfe4bc421",
   "metadata": {},
   "outputs": [],
   "source": [
    "# Escreve a tabela de fatos `sia_df` em arquivo parquet no diretório sus-data-warehouse\n",
    "\n",
    "sia_df.write \\\n",
    "    .format('parquet') \\\n",
    "    .mode('overwrite') \\\n",
    "    .save('sus-data-warehouse/sia')"
   ]
  },
  {
   "cell_type": "markdown",
   "id": "57968907-86bd-4b3e-934f-29e38457c85f",
   "metadata": {},
   "source": [
    "### Breve análise exploratória\n",
    "Análise exploratória de algumas atributos (dimensões) da tabela de fatos que chamaram atenção do autor."
   ]
  },
  {
   "cell_type": "code",
   "execution_count": 10,
   "id": "74caadd5-13f4-4ed1-ad45-712e8c39281b",
   "metadata": {},
   "outputs": [
    {
     "name": "stdout",
     "output_type": "stream",
     "text": [
      "-RECORD 0---------------------\n",
      " PA_CMP     | 201907          \n",
      " PA_CODUNI  | 0003786         \n",
      " PA_TPUPS   | 07              \n",
      " PA_UFMUN   | 292740          \n",
      " PA_PROC_ID | 0417010060      \n",
      " PA_DOCORIG | I               \n",
      " PA_CNSMED  | 108258251530008 \n",
      " PA_CBOCOD  | 225310          \n",
      " PA_MOTSAI  | 00              \n",
      " PA_CIDPRI  | 0000            \n",
      " PA_CIDSEC  | 0000            \n",
      " PA_CIDCAS  | 0000            \n",
      " PA_CATEND  | 01              \n",
      " PA_IDADE   | 60              \n",
      " PA_SEXO    | F               \n",
      " PA_RACACOR | 99              \n",
      " PA_MUNPCN  | 292740          \n",
      " PA_QTDAPR  | 1               \n",
      " PA_VALAPR  | 15.15           \n",
      "only showing top 1 row\n",
      "\n"
     ]
    }
   ],
   "source": [
    "# Mostra o primeiro registro do data frame 'sia_df'\n",
    "\n",
    "sia_df.show(1, vertical=True)"
   ]
  },
  {
   "cell_type": "code",
   "execution_count": 11,
   "id": "fea10fc2-733f-41f3-8a81-558a6c9535cb",
   "metadata": {},
   "outputs": [
    {
     "name": "stdout",
     "output_type": "stream",
     "text": [
      "+---------+-----------+--------------+\n",
      "|PA_MUNPCN|      count|MUNPCN_PERCENT|\n",
      "+---------+-----------+--------------+\n",
      "|   999999|460,061,443|          26.4|\n",
      "|   330455|103,426,318|          5.93|\n",
      "|   355030| 70,764,436|          4.06|\n",
      "|   310620| 58,555,360|          3.36|\n",
      "|   431490| 29,844,593|          1.71|\n",
      "+---------+-----------+--------------+\n",
      "only showing top 5 rows\n",
      "\n"
     ]
    }
   ],
   "source": [
    "sia_df \\\n",
    "    .groupBy('PA_MUNPCN') \\\n",
    "    .count() \\\n",
    "    .orderBy(F.desc('count')) \\\n",
    "    .withColumn('MUNPCN_PERCENT', F.round(F.col('count') / sia_df_count * 100, 2)) \\\n",
    "    .withColumn('count', F.format_number('count', 0)) \\\n",
    "    .show(5)"
   ]
  },
  {
   "cell_type": "code",
   "execution_count": 12,
   "id": "64787286-ac3c-4d75-8295-712226524624",
   "metadata": {},
   "outputs": [
    {
     "data": {
      "text/plain": [
       "309678509"
      ]
     },
     "execution_count": 12,
     "metadata": {},
     "output_type": "execute_result"
    }
   ],
   "source": [
    "# Quantidade de registros com PA_UFMUN (Município do estabelecimento) <> PA_MUNPCN (Município do paciente) e que não são BPC-Consolidado \n",
    "# (BPC-C não possui informação de paciente)\n",
    "\n",
    "sia_df \\\n",
    "    .select('PA_UFMUN', 'PA_MUNPCN') \\\n",
    "    .where('PA_UFMUN <> PA_MUNPCN and PA_MUNPCN <> \"999999\"') \\\n",
    "    .count()"
   ]
  },
  {
   "cell_type": "markdown",
   "id": "ed1f37eb-29c9-40de-965a-f9182045df72",
   "metadata": {},
   "source": [
    "Quantidade de registros com PA_MUNPCN == '999999' é igual a quantidade de registros com PA_DOCORIG == 'BPA - Consolidado'. Após consulta analítica, é possível afirmar que todos esses registros tem PA_DOCORIG == PA_DOCORIG == 'BPA - Consolidado'"
   ]
  },
  {
   "cell_type": "code",
   "execution_count": 13,
   "id": "14a7e0ad-05ee-4614-809f-1b8486f4536f",
   "metadata": {},
   "outputs": [
    {
     "name": "stdout",
     "output_type": "stream",
     "text": [
      "-RECORD 0-----------------------------------\n",
      " approx_count_distinct(PA_CODUNI)  | 88345  \n",
      " approx_count_distinct(PA_QTDAPR)  | 26993  \n",
      " approx_count_distinct(PA_DOCORIG) | 6      \n",
      " approx_count_distinct(PA_UFMUN)   | 5522   \n",
      " approx_count_distinct(PA_SEXO)    | 6      \n",
      " approx_count_distinct(PA_MUNPCN)  | 5637   \n",
      " approx_count_distinct(PA_CIDCAS)  | 3225   \n",
      " approx_count_distinct(PA_CMP)     | 67     \n",
      " approx_count_distinct(PA_CIDPRI)  | 13852  \n",
      " approx_count_distinct(PA_MOTSAI)  | 21     \n",
      " approx_count_distinct(PA_CNSMED)  | 492359 \n",
      " approx_count_distinct(PA_CIDSEC)  | 2321   \n",
      " approx_count_distinct(PA_CATEND)  | 24     \n",
      " approx_count_distinct(PA_VALAPR)  | 256163 \n",
      " approx_count_distinct(PA_TPUPS)   | 41     \n",
      " approx_count_distinct(PA_RACACOR) | 25     \n",
      " approx_count_distinct(PA_CBOCOD)  | 219    \n",
      " approx_count_distinct(PA_PROC_ID) | 2864   \n",
      " approx_count_distinct(PA_IDADE)   | 129    \n",
      "\n"
     ]
    }
   ],
   "source": [
    "# Verifica a cardinalidade de cada coluna\n",
    "\n",
    "sia_df \\\n",
    "    .agg({c: 'approx_count_distinct' for c in sia_df.columns}) \\\n",
    "    .show(vertical=True)"
   ]
  },
  {
   "cell_type": "code",
   "execution_count": 14,
   "id": "6c73fa2e-4670-48ed-8147-6bc8409bf2aa",
   "metadata": {},
   "outputs": [
    {
     "name": "stdout",
     "output_type": "stream",
     "text": [
      "-RECORD 0--------------\n",
      " PA_CMP     | 0        \n",
      " PA_CODUNI  | 0        \n",
      " PA_TPUPS   | 0        \n",
      " PA_UFMUN   | 0        \n",
      " PA_PROC_ID | 0        \n",
      " PA_DOCORIG | 0        \n",
      " PA_CNSMED  | 0        \n",
      " PA_CBOCOD  | 809921   \n",
      " PA_MOTSAI  | 0        \n",
      " PA_CIDPRI  | 0        \n",
      " PA_CIDSEC  | 0        \n",
      " PA_CIDCAS  | 49825202 \n",
      " PA_CATEND  | 0        \n",
      " PA_IDADE   | 0        \n",
      " PA_SEXO    | 0        \n",
      " PA_RACACOR | 0        \n",
      " PA_MUNPCN  | 0        \n",
      " PA_QTDAPR  | 0        \n",
      " PA_VALAPR  | 0        \n",
      "\n"
     ]
    }
   ],
   "source": [
    "# Conta valores faltantes em todas as colunas\n",
    "\n",
    "sia_df  \\\n",
    "    .select([F.count(F.when(F.col(c).isNull() | \\\n",
    "                            F.isnan(c), c)\n",
    "                    ).alias(c) \\\n",
    "             for c in sia_df.columns]) \\\n",
    "    .show(vertical=True)"
   ]
  },
  {
   "cell_type": "code",
   "execution_count": 15,
   "id": "ef96fa29-9b64-4259-b75c-8b1608e3a330",
   "metadata": {},
   "outputs": [
    {
     "name": "stdout",
     "output_type": "stream",
     "text": [
      "+---------+-------------+\n",
      "|PA_CATEND|        count|\n",
      "+---------+-------------+\n",
      "|       01|1,100,224,673|\n",
      "|       99|  460,061,443|\n",
      "|       02|  180,461,010|\n",
      "|       06|    1,167,119|\n",
      "|       03|      555,353|\n",
      "|       05|      172,030|\n",
      "|       04|      102,214|\n",
      "|       00|          107|\n",
      "|      056|            2|\n",
      "|      026|            2|\n",
      "|      046|            2|\n",
      "|      027|            2|\n",
      "|      065|            2|\n",
      "|      030|            1|\n",
      "|      022|            1|\n",
      "|      070|            1|\n",
      "|      067|            1|\n",
      "|      057|            1|\n",
      "|      044|            1|\n",
      "|      086|            1|\n",
      "+---------+-------------+\n",
      "only showing top 20 rows\n",
      "\n"
     ]
    }
   ],
   "source": [
    "# Verifica a contagem de valores na coluna PA_CATEND\n",
    "\n",
    "sia_df \\\n",
    "    .groupBy('PA_CATEND') \\\n",
    "    .count() \\\n",
    "    .orderBy(F.desc('count')) \\\n",
    "    .withColumn('count', F.format_number('count', 0)) \\\n",
    "    .show()"
   ]
  },
  {
   "cell_type": "markdown",
   "id": "dc660dc1-d1d4-4b93-bfd1-ca5081e46fed",
   "metadata": {},
   "source": [
    "Coluna PA_ETNIA foi removida da tabela de fatos `sia_df` após análise dos valores presentes. Cardinalidade muito grande, valores não explicáveis e\n",
    "99,9% dos registros 'NULL'. "
   ]
  },
  {
   "cell_type": "code",
   "execution_count": 17,
   "id": "f3d95ef5-4a93-496d-9402-319c453b8d48",
   "metadata": {},
   "outputs": [
    {
     "name": "stdout",
     "output_type": "stream",
     "text": [
      "+---+----------+\n",
      "|LEN|     count|\n",
      "+---+----------+\n",
      "|  3|  48835518|\n",
      "|  4|1693908411|\n",
      "|  2|        31|\n",
      "|  1|         9|\n",
      "+---+----------+\n",
      "\n"
     ]
    }
   ],
   "source": [
    "# Verifica quantidade de CIDs de acordo com números de dígitos do CID\n",
    "\n",
    "sia_df \\\n",
    "    .selectExpr('len(PA_CIDPRI) as LEN') \\\n",
    "    .groupBy('LEN') \\\n",
    "    .count() \\\n",
    "    .show()"
   ]
  },
  {
   "cell_type": "code",
   "execution_count": 18,
   "id": "1d4e65db-2b08-4ca3-901e-058eea46cfed",
   "metadata": {},
   "outputs": [
    {
     "name": "stdout",
     "output_type": "stream",
     "text": [
      "+----------+---------+\n",
      "|LEN_CIDPRI|PA_CIDPRI|\n",
      "+----------+---------+\n",
      "|         2|       N8|\n",
      "|         2|       H0|\n",
      "|         1|        S|\n",
      "|         1|        G|\n",
      "|         2|       F2|\n",
      "|         2|       H3|\n",
      "|         2|       R9|\n",
      "|         2|       R9|\n",
      "|         1|        Z|\n",
      "|         1|        Z|\n",
      "|         2|       H6|\n",
      "|         2|       I7|\n",
      "|         2|       R0|\n",
      "|         1|        Z|\n",
      "|         1|        Z|\n",
      "|         2|       B4|\n",
      "|         2|       Q2|\n",
      "|         2|       H5|\n",
      "|         2|       H3|\n",
      "|         2|       L1|\n",
      "+----------+---------+\n",
      "only showing top 20 rows\n",
      "\n"
     ]
    }
   ],
   "source": [
    "# Mostra CIDs com quantidade de dígitos igual a 2 ou menores\n",
    "\n",
    "sia_df \\\n",
    "    .selectExpr('len(PA_CIDPRI) as LEN_CIDPRI',\n",
    "               'PA_CIDPRI') \\\n",
    "    .where('LEN_CIDPRI <= 2') \\\n",
    "    .show()"
   ]
  },
  {
   "cell_type": "code",
   "execution_count": 30,
   "id": "c2b4cc99-73b4-4305-814e-49840ada98c2",
   "metadata": {},
   "outputs": [
    {
     "name": "stdout",
     "output_type": "stream",
     "text": [
      "+---------------+\n",
      "|left(PA_CMP, 4)|\n",
      "+---------------+\n",
      "|           2020|\n",
      "|           2019|\n",
      "|           2017|\n",
      "|           2018|\n",
      "|           2016|\n",
      "|           2015|\n",
      "+---------------+\n",
      "\n"
     ]
    }
   ],
   "source": [
    "sia_df \\\n",
    "    .selectExpr('left(PA_CMP, 4)') \\\n",
    "    .distinct() \\\n",
    "    .show()"
   ]
  },
  {
   "cell_type": "code",
   "execution_count": 34,
   "id": "bf2792f2-10d9-4ac0-8806-21d0f482ea10",
   "metadata": {},
   "outputs": [
    {
     "name": "stdout",
     "output_type": "stream",
     "text": [
      "+------+\n",
      "|PA_CMP|\n",
      "+------+\n",
      "|201508|\n",
      "|201509|\n",
      "|201510|\n",
      "|201511|\n",
      "|201512|\n",
      "+------+\n",
      "\n"
     ]
    }
   ],
   "source": [
    "sia_df \\\n",
    "    .select('PA_CMP') \\\n",
    "    .filter('left(PA_CMP, 4) = \"2015\"') \\\n",
    "    .distinct() \\\n",
    "    .orderBy('PA_CMP') \\\n",
    "    .show()"
   ]
  },
  {
   "cell_type": "markdown",
   "id": "812cf491-2c8f-4b2b-a66c-f0aa2e27aa76",
   "metadata": {},
   "source": [
    "## Carregamento das tabelas de dimensões\n",
    "\n",
    "Nessa seção, serão carregadas as tabelas de dimensões:\n",
    "- `municipios_df`: listagem do IBGE de todos os munícipios brasileiros, estados, regiões e outras informações;\n",
    "- `cnes_df`: Cadastro Nacional de Estabelecimentos de Saúde;\n",
    "- `sigtap_proced_df`: listagem dos Procedimentos oferecidos pelo SUS;\n",
    "- `cid_df`: CID-10 Código Internacional de Doenças;\n",
    "- `ano_mes_df`: Dimensão \"data\"no formato AAAAMM;\n",
    "- `cbocod_df`: Código Brasileiro de Ocupações;\n",
    "- `tpups_df`: Tipos de Estabelcimentos de Saúde;\n",
    "- `catend_df`: Caráter de Atendimento;\n",
    "- `docorig_df`: Tipo de Documento de Origem da produção ambulatorial;\n",
    "- `sexo_df`: Sexo do paciente;\n",
    "- `raca_cor_df`: Raça/Cor do paciente;\n",
    "- `mosai_df`: Motivos de saída"
   ]
  },
  {
   "cell_type": "markdown",
   "id": "72b3c559-f196-484c-9564-c3b060df4773",
   "metadata": {},
   "source": [
    "### Dimensão MUNICIPIOS (`municipios_df`) (`sia_df['PA_UFMUN']`)"
   ]
  },
  {
   "cell_type": "code",
   "execution_count": 12,
   "id": "c04c2433-f9a2-4e48-baac-7dd67d5e47e7",
   "metadata": {},
   "outputs": [],
   "source": [
    "# Importa o módulo requests para baixar os d\n",
    "\n",
    "import requests"
   ]
  },
  {
   "cell_type": "code",
   "execution_count": 13,
   "id": "6ced7c92-2eea-4096-abc7-824838e8bff6",
   "metadata": {},
   "outputs": [],
   "source": [
    "# Baixa os dados de municípios do IBGE\n",
    "\n",
    "municipios = requests.get('https://servicodados.ibge.gov.br/api/v1/localidades/municipios').json()"
   ]
  },
  {
   "cell_type": "code",
   "execution_count": 14,
   "id": "dba528fa-8aa1-4cae-8d30-34fdcc8b98d2",
   "metadata": {},
   "outputs": [
    {
     "data": {
      "text/plain": [
       "{'id': 1100015,\n",
       " 'nome': \"Alta Floresta D'Oeste\",\n",
       " 'microrregiao': {'id': 11006,\n",
       "  'nome': 'Cacoal',\n",
       "  'mesorregiao': {'id': 1102,\n",
       "   'nome': 'Leste Rondoniense',\n",
       "   'UF': {'id': 11,\n",
       "    'sigla': 'RO',\n",
       "    'nome': 'Rondônia',\n",
       "    'regiao': {'id': 1, 'sigla': 'N', 'nome': 'Norte'}}}},\n",
       " 'regiao-imediata': {'id': 110005,\n",
       "  'nome': 'Cacoal',\n",
       "  'regiao-intermediaria': {'id': 1102,\n",
       "   'nome': 'Ji-Paraná',\n",
       "   'UF': {'id': 11,\n",
       "    'sigla': 'RO',\n",
       "    'nome': 'Rondônia',\n",
       "    'regiao': {'id': 1, 'sigla': 'N', 'nome': 'Norte'}}}}}"
      ]
     },
     "execution_count": 14,
     "metadata": {},
     "output_type": "execute_result"
    }
   ],
   "source": [
    "# Mostra o formato do primeiro município\n",
    "\n",
    "municipios[0]"
   ]
  },
  {
   "cell_type": "code",
   "execution_count": 15,
   "id": "bd26f0cd-2a99-4de5-b816-c20f9b798fe6",
   "metadata": {},
   "outputs": [
    {
     "name": "stdout",
     "output_type": "stream",
     "text": [
      "+--------+--------------------+-----------------+-----------------+---+--------+------------+------+---------------+--------------------+\n",
      "|PA_UFMUN|                NOME|     MICRORREGIAO|      MESORREGIAO| UF| UF_NOME|REGIAO_SIGLA|REGIAO|REGIAO_IMEDIATA|REGIAO_INTERMEDIARIA|\n",
      "+--------+--------------------+-----------------+-----------------+---+--------+------------+------+---------------+--------------------+\n",
      "|  110001|Alta Floresta D'O...|           Cacoal|Leste Rondoniense| RO|Rondônia|           N| Norte|         Cacoal|           Ji-Paraná|\n",
      "|  110002|           Ariquemes|        Ariquemes|Leste Rondoniense| RO|Rondônia|           N| Norte|      Ariquemes|         Porto Velho|\n",
      "|  110003|              Cabixi|Colorado do Oeste|Leste Rondoniense| RO|Rondônia|           N| Norte|        Vilhena|           Ji-Paraná|\n",
      "|  110004|              Cacoal|           Cacoal|Leste Rondoniense| RO|Rondônia|           N| Norte|         Cacoal|           Ji-Paraná|\n",
      "|  110005|          Cerejeiras|Colorado do Oeste|Leste Rondoniense| RO|Rondônia|           N| Norte|        Vilhena|           Ji-Paraná|\n",
      "|  110006|   Colorado do Oeste|Colorado do Oeste|Leste Rondoniense| RO|Rondônia|           N| Norte|        Vilhena|           Ji-Paraná|\n",
      "|  110007|          Corumbiara|Colorado do Oeste|Leste Rondoniense| RO|Rondônia|           N| Norte|        Vilhena|           Ji-Paraná|\n",
      "|  110008|       Costa Marques|    Guajará-Mirim|  Madeira-Guaporé| RO|Rondônia|           N| Norte|      Ji-Paraná|           Ji-Paraná|\n",
      "|  110009|     Espigão D'Oeste|           Cacoal|Leste Rondoniense| RO|Rondônia|           N| Norte|         Cacoal|           Ji-Paraná|\n",
      "|  110010|       Guajará-Mirim|    Guajará-Mirim|  Madeira-Guaporé| RO|Rondônia|           N| Norte|    Porto Velho|         Porto Velho|\n",
      "|  110011|                Jaru|        Ji-Paraná|Leste Rondoniense| RO|Rondônia|           N| Norte|           Jaru|         Porto Velho|\n",
      "|  110012|           Ji-Paraná|        Ji-Paraná|Leste Rondoniense| RO|Rondônia|           N| Norte|      Ji-Paraná|           Ji-Paraná|\n",
      "|  110013|  Machadinho D'Oeste|        Ariquemes|Leste Rondoniense| RO|Rondônia|           N| Norte|           Jaru|         Porto Velho|\n",
      "|  110014|Nova Brasilândia ...| Alvorada D'Oeste|Leste Rondoniense| RO|Rondônia|           N| Norte|         Cacoal|           Ji-Paraná|\n",
      "|  110015| Ouro Preto do Oeste|        Ji-Paraná|Leste Rondoniense| RO|Rondônia|           N| Norte|      Ji-Paraná|           Ji-Paraná|\n",
      "|  110018|       Pimenta Bueno|          Vilhena|Leste Rondoniense| RO|Rondônia|           N| Norte|         Cacoal|           Ji-Paraná|\n",
      "|  110020|         Porto Velho|      Porto Velho|  Madeira-Guaporé| RO|Rondônia|           N| Norte|    Porto Velho|         Porto Velho|\n",
      "|  110025|   Presidente Médici|        Ji-Paraná|Leste Rondoniense| RO|Rondônia|           N| Norte|      Ji-Paraná|           Ji-Paraná|\n",
      "|  110026|          Rio Crespo|        Ariquemes|Leste Rondoniense| RO|Rondônia|           N| Norte|      Ariquemes|         Porto Velho|\n",
      "|  110028|      Rolim de Moura|           Cacoal|Leste Rondoniense| RO|Rondônia|           N| Norte|         Cacoal|           Ji-Paraná|\n",
      "+--------+--------------------+-----------------+-----------------+---+--------+------------+------+---------------+--------------------+\n",
      "only showing top 20 rows\n",
      "\n"
     ]
    }
   ],
   "source": [
    "# Cria o dataframe de municípios\n",
    "\n",
    "municipios_df = spark.createDataFrame(\n",
    "    data=[(str(municipio['id'])[:6],  # 'Slicing para remover o dígito verificador, o sétimo dígito.\n",
    "           municipio['nome'], \n",
    "           municipio['microrregiao']['nome'], \n",
    "           municipio['microrregiao']['mesorregiao']['nome'], \n",
    "           municipio['microrregiao']['mesorregiao']['UF']['sigla'], \n",
    "           municipio['microrregiao']['mesorregiao']['UF']['nome'],\n",
    "           municipio['microrregiao']['mesorregiao']['UF']['regiao']['sigla'],\n",
    "           municipio['microrregiao']['mesorregiao']['UF']['regiao']['nome'],\n",
    "           municipio['regiao-imediata']['nome'],\n",
    "           municipio['regiao-imediata']['regiao-intermediaria']['nome']) for municipio in municipios],\n",
    "    schema=['PA_UFMUN', 'NOME', 'MICRORREGIAO', 'MESORREGIAO', 'UF', 'UF_NOME', 'REGIAO_SIGLA', 'REGIAO', 'REGIAO_IMEDIATA', 'REGIAO_INTERMEDIARIA']\n",
    ")\n",
    "\n",
    "municipios_df.show()"
   ]
  },
  {
   "cell_type": "code",
   "execution_count": 16,
   "id": "0ba28ca0-a9c3-4d6a-97b7-c805cc669cd1",
   "metadata": {},
   "outputs": [
    {
     "data": {
      "text/plain": [
       "5570"
      ]
     },
     "execution_count": 16,
     "metadata": {},
     "output_type": "execute_result"
    }
   ],
   "source": [
    "# Conta a quantidade total de registros do data frame de munícipios\n",
    "\n",
    "municipios_df.count()"
   ]
  },
  {
   "cell_type": "code",
   "execution_count": 18,
   "id": "c754e8ee-c8b1-4f16-a3ad-84c4127bdbf0",
   "metadata": {},
   "outputs": [
    {
     "data": {
      "text/plain": [
       "10"
      ]
     },
     "execution_count": 18,
     "metadata": {},
     "output_type": "execute_result"
    }
   ],
   "source": [
    "len(municipios_df.columns)"
   ]
  },
  {
   "cell_type": "code",
   "execution_count": 24,
   "id": "bf814274-6752-4174-854a-041c776f2a4f",
   "metadata": {},
   "outputs": [],
   "source": [
    "# Salva a tabela `municipios_df` na pasta do data warehouse `sus-data-warehouse` em formato Apache Parquet\n",
    "\n",
    "municipios_df.write \\\n",
    "    .format('parquet') \\\n",
    "    .mode('overwrite') \\\n",
    "    .save('sus-data-warehouse/municipios')"
   ]
  },
  {
   "cell_type": "markdown",
   "id": "fcda867e-433c-4c01-975b-d848b51b9fb9",
   "metadata": {},
   "source": [
    "### Dimensão CADASTRO NACIONAL DE ESTABELECIMENTOS DE SAÚDE (`cnes_df`) (`sia_df['PA_CODUNI']`)"
   ]
  },
  {
   "cell_type": "code",
   "execution_count": 9,
   "id": "8595dcbd-da34-42f9-9fc8-2a509f2cef16",
   "metadata": {},
   "outputs": [],
   "source": [
    "# Carrega num dataframe os arquivos da tabela CNES - Cadastro Nacional de Estabelecimentos de Saúde\n",
    "\n",
    "cnes_df = spark.read.option('mergeSchema', 'true').parquet('data/tb_cnes_estabelecimentos')"
   ]
  },
  {
   "cell_type": "code",
   "execution_count": 10,
   "id": "a820e1f3-50ef-44bd-b8d0-485c3640bd38",
   "metadata": {},
   "outputs": [
    {
     "name": "stdout",
     "output_type": "stream",
     "text": [
      "-RECORD 0----------------------------------------------------\n",
      " CO_UNIDADE                  | 3556205173388                 \n",
      " CO_CNES                     | 5173388                       \n",
      " NU_CNPJ_MANTENEDORA         | NULL                          \n",
      " TP_PFPJ                     | 1                             \n",
      " NIVEL_DEP                   | 1                             \n",
      " NO_RAZAO_SOCIAL             | SILVIO MAURICIO RINHEL VIRDES \n",
      " NO_FANTASIA                 | SILVIO MAURICIO RINHEL VIRDES \n",
      " NO_LOGRADOURO               | RUA 13 DE MAIO                \n",
      " NU_ENDERECO                 | 133                           \n",
      " NO_COMPLEMENTO              | 1 ANDAR                       \n",
      " NO_BAIRRO                   | CENTRO                        \n",
      " CO_CEP                      | 13270020                      \n",
      " CO_REGIAO_SAUDE             | NULL                          \n",
      " CO_MICRO_REGIAO             | NULL                          \n",
      " CO_DISTRITO_SANITARIO       | NULL                          \n",
      " CO_DISTRITO_ADMINISTRATIVO  | NULL                          \n",
      " NU_TELEFONE                 | 19-38713106                   \n",
      " NU_FAX                      | NULL                          \n",
      " NO_EMAIL                    | NULL                          \n",
      " NU_CPF                      | 02926823878                   \n",
      " NU_CNPJ                     | NULL                          \n",
      " CO_ATIVIDADE                | 04                            \n",
      " CO_CLIENTELA                | 03                            \n",
      " NU_ALVARA                   | 000266-1-1                    \n",
      " DT_EXPEDICAO                | 03-out-2006 00:00:00          \n",
      " TP_ORGAO_EXPEDIDOR          | 2                             \n",
      " DT_VAL_LIC_SANI             | NULL                          \n",
      " TP_LIC_SANI                 | NULL                          \n",
      " TP_UNIDADE                  | 22                            \n",
      " CO_TURNO_ATENDIMENTO        | 03                            \n",
      " CO_ESTADO_GESTOR            | 35                            \n",
      " CO_MUNICIPIO_GESTOR         | 355620                        \n",
      " DT_ATUALIZACAO              | 31/08/2019                    \n",
      " CO_USUARIO                  | SANDRA                        \n",
      " CO_CPFDIRETORCLN            | 02926823878                   \n",
      " REG_DIRETORCLN              | 28264                         \n",
      " ST_ADESAO_FILANTROP         | NULL                          \n",
      " CO_MOTIVO_DESAB             | NULL                          \n",
      " NO_URL                      | NULL                          \n",
      " NU_LATITUDE                 | -22.9722215                   \n",
      " NU_LONGITUDE                | -46.9953355                   \n",
      " DT_ATU_GEO                  | 31/08/2019                    \n",
      " NO_USUARIO_GEO              | SANDRA                        \n",
      " CO_NATUREZA_JUR             | 4000                          \n",
      " TP_ESTAB_SEMPRE_ABERTO      | N                             \n",
      " ST_GERACREDITO_GERENTE_SGIF | NULL                          \n",
      " ST_CONEXAO_INTERNET         | S                             \n",
      " CO_TIPO_UNIDADE             | NULL                          \n",
      " NO_FANTASIA_ABREV           | NULL                          \n",
      " TP_GESTAO                   | M                             \n",
      " DT_ATUALIZACAO_ORIGEM       | 16/12/2006                    \n",
      " CO_TIPO_ESTABELECIMENTO     | 016                           \n",
      " CO_ATIVIDADE_PRINCIPAL      | 001                           \n",
      " ST_CONTRATO_FORMALIZADO     | N                             \n",
      "only showing top 1 row\n",
      "\n"
     ]
    }
   ],
   "source": [
    "# Mostra o primeiro registro do data frame CNES}\n",
    "\n",
    "cnes_df.show(1, vertical=True, truncate=False)"
   ]
  },
  {
   "cell_type": "code",
   "execution_count": 15,
   "id": "018d870a-5007-47af-81e8-f2c4ebc8f791",
   "metadata": {},
   "outputs": [
    {
     "data": {
      "text/plain": [
       "54"
      ]
     },
     "execution_count": 15,
     "metadata": {},
     "output_type": "execute_result"
    }
   ],
   "source": [
    "len(cnes_df.columns)"
   ]
  },
  {
   "cell_type": "code",
   "execution_count": 27,
   "id": "d6bfd02d-1a97-4821-b738-9394d1a683ac",
   "metadata": {},
   "outputs": [
    {
     "data": {
      "text/plain": [
       "418045"
      ]
     },
     "execution_count": 27,
     "metadata": {},
     "output_type": "execute_result"
    }
   ],
   "source": [
    "# Número de registros no data frame 'cnes_df'\n",
    "\n",
    "cnes_df_count = cnes_df.count()\n",
    "cnes_df_count"
   ]
  },
  {
   "cell_type": "markdown",
   "id": "568691a3-ce3b-4c34-b3a9-78f6881e814c",
   "metadata": {},
   "source": [
    "#### Dimensão CLASSIFICAÇÃO DE ESTABELECIMENTOS (`tp_estab_df`)"
   ]
  },
  {
   "cell_type": "code",
   "execution_count": 28,
   "id": "a1f3b701-07c8-47c2-ad0f-8e1c89d1776a",
   "metadata": {},
   "outputs": [
    {
     "name": "stdout",
     "output_type": "stream",
     "text": [
      "+-----------------------+----------------------------------------------------------+\n",
      "|CO_TIPO_ESTABELECIMENTO|CO_TIPO_ESTABELECIMENTO_DESC                              |\n",
      "+-----------------------+----------------------------------------------------------+\n",
      "|000                    |OUTROS                                                    |\n",
      "|001                    |UNIDADE BASICA DE SAUDE                                   |\n",
      "|002                    |CENTRAL DE GESTAO EM SAUDE                                |\n",
      "|003                    |CENTRAL DE REGULACAO                                      |\n",
      "|004                    |CENTRAL DE ABASTECIMENTO                                  |\n",
      "|005                    |CENTRAL DE TRANSPLANTE                                    |\n",
      "|006                    |HOSPITAL                                                  |\n",
      "|007                    |CENTRO DE ASSISTENCIA OBSTETRICA E NEONATAL NORMAL        |\n",
      "|008                    |PRONTO ATENDIMENTO                                        |\n",
      "|009                    |FARMACIA                                                  |\n",
      "|010                    |UNIDADE DE ATENCAO HEMATOLOGICA E/OU HEMOTERAPICA         |\n",
      "|011                    |NUCLEO DE TELESSAUDE                                      |\n",
      "|012                    |UNIDADE DE ATENCAO DOMICILIAR                             |\n",
      "|013                    |POLO DE PREVENCAO DE DOENCAS E AGRAVOS E PROMOCAO DA SAUDE|\n",
      "|014                    |CASAS DE APOIO A SAUDE                                    |\n",
      "|015                    |UNIDADE DE REABILITACAO                                   |\n",
      "|016                    |AMBULATORIO                                               |\n",
      "|017                    |UNIDADE DE ATENCAO PSICOSSOCIAL                           |\n",
      "|018                    |UNIDADE DE APOIO DIAGNOSTICO                              |\n",
      "|019                    |UNIDADE DE TERAPIAS ESPECIAIS                             |\n",
      "+-----------------------+----------------------------------------------------------+\n",
      "only showing top 20 rows\n",
      "\n"
     ]
    }
   ],
   "source": [
    "# Cria o data frame da dimensão Classificação de Estabelecimentos (CO_TIPO_ESTABELECIMENTO)\n",
    "\n",
    "# CO_TIPO_ESTABELECIMENTO extraído da página http://cnes2.datasus.gov.br/, aba Relatórios, opção Classif. de Estabelecimentos em 15/08/2024\n",
    "tp_estab_df = spark.createDataFrame(\n",
    "    data=[\n",
    "        ('000', 'OUTROS'),\n",
    "        ('001', 'UNIDADE BASICA DE SAUDE'),\n",
    "        ('002', 'CENTRAL DE GESTAO EM SAUDE'),\n",
    "        ('003', 'CENTRAL DE REGULACAO'),\n",
    "        ('004', 'CENTRAL DE ABASTECIMENTO'),\n",
    "        ('005', 'CENTRAL DE TRANSPLANTE'),\n",
    "        ('006', 'HOSPITAL'),\n",
    "        ('007', 'CENTRO DE ASSISTENCIA OBSTETRICA E NEONATAL NORMAL'),\n",
    "        ('008', 'PRONTO ATENDIMENTO'),\n",
    "        ('009', 'FARMACIA'),\n",
    "        ('010', 'UNIDADE DE ATENCAO HEMATOLOGICA E/OU HEMOTERAPICA'),\n",
    "        ('011', 'NUCLEO DE TELESSAUDE'),\n",
    "        ('012', 'UNIDADE DE ATENCAO DOMICILIAR'),\n",
    "        ('013', 'POLO DE PREVENCAO DE DOENCAS E AGRAVOS E PROMOCAO DA SAUDE'),\n",
    "        ('014', 'CASAS DE APOIO A SAUDE'),\n",
    "        ('015', 'UNIDADE DE REABILITACAO'),\n",
    "        ('016', 'AMBULATORIO'),\n",
    "        ('017', 'UNIDADE DE ATENCAO PSICOSSOCIAL'),\n",
    "        ('018', 'UNIDADE DE APOIO DIAGNOSTICO'),\n",
    "        ('019', 'UNIDADE DE TERAPIAS ESPECIAIS'),\n",
    "        ('020', 'LABORATORIO DE PROTESE DENTARIA'),\n",
    "        ('021', 'UNIDADE DE VIGILANCIA DE ZOONOSES'),\n",
    "        ('022', 'LABORATORIO DE SAUDE PUBLICA'),\n",
    "        ('023', 'CENTRO DE REFERENCIA EM SAUDE DO TRABALHADOR'),\n",
    "        ('024', 'SERVICO DE VERIFICACAO DE OBITO'),\n",
    "        ('025', 'CENTRO DE IMUNIZACAO')\n",
    "    ],\n",
    "    schema=['CO_TIPO_ESTABELECIMENTO', 'CO_TIPO_ESTABELECIMENTO_DESC']\n",
    ")\n",
    "\n",
    "tp_estab_df.show(truncate=False)"
   ]
  },
  {
   "cell_type": "markdown",
   "id": "d5bb8461-0ef5-4955-8bb2-3b583eb39579",
   "metadata": {},
   "source": [
    "#### Dimensão TIPO DE ESTABELECIMENTO (`tp_unidade_df`)"
   ]
  },
  {
   "cell_type": "code",
   "execution_count": 29,
   "id": "e48593d0-99d2-4002-9ba2-8070aa7fa811",
   "metadata": {},
   "outputs": [
    {
     "name": "stdout",
     "output_type": "stream",
     "text": [
      "+----------+----------------------------------------------------------+\n",
      "|TP_UNIDADE|TP_UNIDADE_DESC                                           |\n",
      "+----------+----------------------------------------------------------+\n",
      "|01        |POSTO DE SAUDE                                            |\n",
      "|02        |CENTRO DE SAUDE/UNIDADE BASICA                            |\n",
      "|04        |POLICLINICA                                               |\n",
      "|05        |HOSPITAL GERAL                                            |\n",
      "|07        |HOSPITAL ESPECIALIZADO                                    |\n",
      "|09        |PRONTO SOCORRO DE HOSPITAL GERAL (ANTIGO)                 |\n",
      "|12        |PRONTO SOCORRO TRAUMATO-ORTOPEDICO (ANTIGO)               |\n",
      "|15        |UNIDADE MISTA                                             |\n",
      "|20        |PRONTO SOCORRO GERAL                                      |\n",
      "|21        |PRONTO SOCORRO ESPECIALIZADO                              |\n",
      "|22        |CONSULTORIO ISOLADO                                       |\n",
      "|32        |UNIDADE MOVEL FLUVIAL                                     |\n",
      "|36        |CLINICA/CENTRO DE ESPECIALIDADE                           |\n",
      "|39        |UNIDADE DE APOIO DIAGNOSE E TERAPIA (SADT ISOLADO)        |\n",
      "|40        |UNIDADE MOVEL TERRESTRE                                   |\n",
      "|42        |UNIDADE MOVEL DE NIVEL PRE-HOSPITALAR NA AREA DE URGENCIA |\n",
      "|43        |FARMACIA                                                  |\n",
      "|45        |UNIDADE DE SAUDE DA FAMILIA                               |\n",
      "|50        |UNIDADE DE VIGILANCIA EM SAUDE                            |\n",
      "|60        |COOPERATIVA OU EMPRESA DE CESSAO DE TRABALHADORES NA SAUDE|\n",
      "+----------+----------------------------------------------------------+\n",
      "only showing top 20 rows\n",
      "\n"
     ]
    }
   ],
   "source": [
    "# Cria o data frame da dimensão Tipo de Estabelecimento (TP_UNIDADE)\n",
    "# CNES.TP_UNIDADE == SIA.PA_TPUPS\n",
    "\n",
    "# Tipos de Estabelecimentos (TP_UNIDADE) extraídos do arquivo de conversão para Tabwin TP_ESTAB.CNV\n",
    "# baixado na página https://datasus.saude.gov.br/transferencia-de-arquivos/ em 15/08/2024\n",
    "# Fonte: CNES - Cadastro Nacional de Estabelecimentos de Saúde, Modalidade: Arquivos auxiliares para tabulação, Tipo de Arquivo: Arquivo de definição do Tabwin\n",
    "# /TAB_CNES/CNV/TP_ESTAB.CNV\n",
    "\n",
    "\n",
    "## Importa a tabela TP_ESTAB.CNV e cria data frame\n",
    "import csv\n",
    "\n",
    "# Cria a lista para as tuplas\n",
    "tp_unidade = []\n",
    "\n",
    "# Exrai a tabela TP_ESTAB.CNV e coloca numa lista de tuplas\n",
    "with open('data/TP_ESTAB.CNV', mode='r') as file:\n",
    "    reader = csv.reader(file, delimiter='\\t')\n",
    "    # Pula a primeira linha do arquivo CNV\n",
    "    next(reader)\n",
    "    # Lê linha a linha (linhas com mais de um char), faz o slice e limpa os espaços do início e fim de cada string resultante\n",
    "    for row in reader:\n",
    "        if len(row[0]) > 1:\n",
    "            tp_unidade.append((row[0][112:114].strip(), row[0][11:112].strip()))\n",
    "\n",
    "# Cria o data frame\n",
    "tp_unidade_df = spark.createDataFrame(\n",
    "    data=tp_unidade,\n",
    "    schema=['TP_UNIDADE', 'TP_UNIDADE_DESC']\n",
    ")\n",
    "\n",
    "tp_unidade_df.show(truncate=False)"
   ]
  },
  {
   "cell_type": "code",
   "execution_count": 30,
   "id": "d4c9ca63-0f05-4934-931b-e4185604d9ea",
   "metadata": {},
   "outputs": [],
   "source": [
    "# Completa o data frame 'cnes_df' com as descrições dos campos TP_UNIDADE e CO_TIPO_ESTABELECIMENTO\n",
    "\n",
    "cnes_df = cnes_df \\\n",
    "    .join(tp_unidade_df, on='TP_UNIDADE', how='left') \\\n",
    "    .join(tp_estab_df, on='CO_TIPO_ESTABELECIMENTO', how='left')"
   ]
  },
  {
   "cell_type": "code",
   "execution_count": 31,
   "id": "9554340c-e509-462e-8fa8-69f45a714dc9",
   "metadata": {},
   "outputs": [
    {
     "data": {
      "text/plain": [
       "True"
      ]
     },
     "execution_count": 31,
     "metadata": {},
     "output_type": "execute_result"
    }
   ],
   "source": [
    "# Verifica se todos os registros do data frame original cnes_df continuam após as junções\n",
    "\n",
    "cnes_df.count() == cnes_df_count"
   ]
  },
  {
   "cell_type": "code",
   "execution_count": 32,
   "id": "902b39f0-ae94-40ac-afbb-422eb523d2d3",
   "metadata": {},
   "outputs": [],
   "source": [
    "# Renomeia a coluna CO_UNIDADE para PA_CODUNI para padronizar com a tabela de fatos SIA_PA\n",
    "\n",
    "cnes_df = cnes_df \\\n",
    "    .withColumnRenamed('CO_CNES', 'PA_CODUNI')"
   ]
  },
  {
   "cell_type": "code",
   "execution_count": 33,
   "id": "af294e5d-4fdf-4b96-83a8-5bfaedebe3e1",
   "metadata": {},
   "outputs": [
    {
     "name": "stdout",
     "output_type": "stream",
     "text": [
      "-RECORD 0-----------------------------------------------------------------\n",
      " CO_TIPO_ESTABELECIMENTO      | NULL                                      \n",
      " TP_UNIDADE                   | 36                                        \n",
      " CO_UNIDADE                   | 3550307917376                             \n",
      " PA_CODUNI                    | 7917376                                   \n",
      " NU_CNPJ_MANTENEDORA          | NULL                                      \n",
      " TP_PFPJ                      | 3                                         \n",
      " NIVEL_DEP                    | 1                                         \n",
      " NO_RAZAO_SOCIAL              | JOSE R VALENTE JR CLINICA ODONTOLOGICA ME \n",
      " NO_FANTASIA                  | ESTETICA ORAL VALENTE                     \n",
      " NO_LOGRADOURO                | RUA SERRA DE BOTUCATU                     \n",
      " NU_ENDERECO                  | 878                                       \n",
      " NO_COMPLEMENTO               | SALAS 1102 1103 1104                      \n",
      " NO_BAIRRO                    | VILA GOMES CARDIM                         \n",
      " CO_CEP                       | 03317000                                  \n",
      " CO_REGIAO_SAUDE              | NULL                                      \n",
      " CO_MICRO_REGIAO              | NULL                                      \n",
      " CO_DISTRITO_SANITARIO        | NULL                                      \n",
      " CO_DISTRITO_ADMINISTRATIVO   | NULL                                      \n",
      " NU_TELEFONE                  | 3582-4952                                 \n",
      " NU_FAX                       | NULL                                      \n",
      " NO_EMAIL                     | fiscal_reobote@hotmail.com                \n",
      " NU_CPF                       | NULL                                      \n",
      " NU_CNPJ                      | 23776096000180                            \n",
      " CO_ATIVIDADE                 | 04                                        \n",
      " CO_CLIENTELA                 | 01                                        \n",
      " NU_ALVARA                    | 339716                                    \n",
      " DT_EXPEDICAO                 | 17-fev-2016 00:00:00                      \n",
      " TP_ORGAO_EXPEDIDOR           | 2                                         \n",
      " DT_VAL_LIC_SANI              | NULL                                      \n",
      " TP_LIC_SANI                  | NULL                                      \n",
      " CO_TURNO_ATENDIMENTO         | 03                                        \n",
      " CO_ESTADO_GESTOR             | 35                                        \n",
      " CO_MUNICIPIO_GESTOR          | 355030                                    \n",
      " DT_ATUALIZACAO               | 25/02/2016                                \n",
      " CO_USUARIO                   | CADASTRO                                  \n",
      " CO_CPFDIRETORCLN             | 30711122890                               \n",
      " REG_DIRETORCLN               | 84240                                     \n",
      " ST_ADESAO_FILANTROP          | NULL                                      \n",
      " CO_MOTIVO_DESAB              | 08                                        \n",
      " NO_URL                       | NULL                                      \n",
      " NU_LATITUDE                  | NULL                                      \n",
      " NU_LONGITUDE                 | NULL                                      \n",
      " DT_ATU_GEO                   | NULL                                      \n",
      " NO_USUARIO_GEO               | NULL                                      \n",
      " CO_NATUREZA_JUR              | 2305                                      \n",
      " TP_ESTAB_SEMPRE_ABERTO       | N                                         \n",
      " ST_GERACREDITO_GERENTE_SGIF  | NULL                                      \n",
      " ST_CONEXAO_INTERNET          | S                                         \n",
      " CO_TIPO_UNIDADE              | NULL                                      \n",
      " NO_FANTASIA_ABREV            | NULL                                      \n",
      " TP_GESTAO                    | M                                         \n",
      " DT_ATUALIZACAO_ORIGEM        | 11/03/2016                                \n",
      " CO_ATIVIDADE_PRINCIPAL       | NULL                                      \n",
      " ST_CONTRATO_FORMALIZADO      | NULL                                      \n",
      " TP_UNIDADE_DESC              | CLINICA/CENTRO DE ESPECIALIDADE           \n",
      " CO_TIPO_ESTABELECIMENTO_DESC | NULL                                      \n",
      "only showing top 1 row\n",
      "\n"
     ]
    }
   ],
   "source": [
    "cnes_df.show(1, vertical=True, truncate=False)"
   ]
  },
  {
   "cell_type": "code",
   "execution_count": 34,
   "id": "b0e31588-5128-4ba4-b912-e9c53628eec8",
   "metadata": {},
   "outputs": [],
   "source": [
    "# Salva a tabela `cnes_df` na pasta do data warehouse `sus-data-warehouse` em formato Apache Parquet\n",
    "\n",
    "cnes_df.write \\\n",
    "    .format('parquet') \\\n",
    "    .mode('overwrite') \\\n",
    "    .save('sus-data-warehouse/cnes')"
   ]
  },
  {
   "cell_type": "markdown",
   "id": "8ea7f7e1-4fa9-4b12-b025-67773dc646a4",
   "metadata": {},
   "source": [
    "### Dimensão SIGTAP - PROCEDIMENTOS (`sigtap_proced_df`) (`sia_df['PA_PROC_ID']`)"
   ]
  },
  {
   "cell_type": "code",
   "execution_count": 16,
   "id": "2dae6b4c-9495-4a77-b8d4-f892144c8215",
   "metadata": {},
   "outputs": [],
   "source": [
    "# Carrega num dataframe os arquivos da tabela de dimensão SIGTAP - PROCEDIMENTOS\n",
    "\n",
    "sigtap_proced_df = spark.read.option('mergeSchema', 'true').parquet('data/tb_sigtap_procedimento')"
   ]
  },
  {
   "cell_type": "code",
   "execution_count": 17,
   "id": "1cfc4d0d-0b45-4b47-9d64-33f5e320533a",
   "metadata": {},
   "outputs": [
    {
     "name": "stdout",
     "output_type": "stream",
     "text": [
      "-RECORD 0-----------------------------------------------------------------------------\n",
      " CO_PROCEDIMENTO      | 0101010010                                                    \n",
      " NO_PROCEDIMENTO      | ATIVIDADE EDUCATIVA / ORIENTAÇÃO EM GRUPO NA ATENÇÃO PRIMÁRIA \n",
      " TP_COMPLEXIDADE      | 1                                                             \n",
      " TP_SEXO              | N                                                             \n",
      " QT_MAXIMA_EXECUCAO   | 9999                                                          \n",
      " QT_DIAS_PERMANENCIA  | 9999                                                          \n",
      " QT_PONTOS            | 0000                                                          \n",
      " VL_IDADE_MINIMA      | 9999                                                          \n",
      " VL_IDADE_MAXIMA      | 9999                                                          \n",
      " VL_SH                | 0000000000                                                    \n",
      " VL_SA                | 0000000000                                                    \n",
      " VL_SP                | 0000000000                                                    \n",
      " CO_FINANCIAMENTO     | 01                                                            \n",
      " CO_RUBRICA           | NULL                                                          \n",
      " QT_TEMPO_PERMANENCIA | 9999                                                          \n",
      " DT_COMPETENCIA       | 202009                                                        \n",
      "only showing top 1 row\n",
      "\n"
     ]
    }
   ],
   "source": [
    "# Exibe o primeiro registro da tabela SIGTAP - PROCEDIMENTOS\n",
    "sigtap_proced_df.show(1, vertical=True, truncate=False)"
   ]
  },
  {
   "cell_type": "code",
   "execution_count": 20,
   "id": "02d4ca13-cb95-4433-8c4d-4615c2e0d339",
   "metadata": {},
   "outputs": [
    {
     "data": {
      "text/plain": [
       "275577"
      ]
     },
     "execution_count": 20,
     "metadata": {},
     "output_type": "execute_result"
    }
   ],
   "source": [
    "sigtap_proced_df.count()"
   ]
  },
  {
   "cell_type": "code",
   "execution_count": 21,
   "id": "d96ceee4-74d1-4305-a8d9-97f22b6a1e67",
   "metadata": {},
   "outputs": [
    {
     "data": {
      "text/plain": [
       "16"
      ]
     },
     "execution_count": 21,
     "metadata": {},
     "output_type": "execute_result"
    }
   ],
   "source": [
    "len(sigtap_proced_df.columns)"
   ]
  },
  {
   "cell_type": "code",
   "execution_count": 37,
   "id": "87b6bb7d-dabd-4c3f-8a13-5bd476b298e4",
   "metadata": {},
   "outputs": [],
   "source": [
    "# Renomeia a coluna 'CO_PROCEDIMENTO' para 'PA_PROC_ID' para padronizar com a tabela de fatos SIA_PA\n",
    "\n",
    "sigtap_proced_df = sigtap_proced_df \\\n",
    "    .withColumnRenamed('CO_PROCEDIMENTO', 'PA_PROC_ID')"
   ]
  },
  {
   "cell_type": "code",
   "execution_count": 38,
   "id": "c34e1a1f-4881-4d68-beb7-50cb792e11e0",
   "metadata": {},
   "outputs": [],
   "source": [
    "# Salva a tabela `sigtap_proced_df` na pasta do data warehouse `sus-data-warehouse` em formato Apache Parquet\n",
    "\n",
    "sigtap_proced_df.write \\\n",
    "    .format('parquet') \\\n",
    "    .mode('overwrite') \\\n",
    "    .save('sus-data-warehouse/sigtap_proced')"
   ]
  },
  {
   "cell_type": "markdown",
   "id": "2d57fca3-892e-43a2-99f2-33d2921f4f03",
   "metadata": {},
   "source": [
    "### Dimensão CID - CÓDIGO INTERNACIONAL DE DOENÇAS (`cid_df`) (`sia_df['PA_CIDPRI', 'PA_CIDSEC', 'PA_CIDCAS']`)"
   ]
  },
  {
   "cell_type": "code",
   "execution_count": 22,
   "id": "40e1de2c-9c56-4292-9579-76a992c8036b",
   "metadata": {},
   "outputs": [],
   "source": [
    "# Carrega num dataframe a tabela CID-10 - Código Internacional de Doenças\n",
    "\n",
    "cid_df = spark.read.option('mergeSchema', 'true').parquet('data/tb_sigtap_cid')"
   ]
  },
  {
   "cell_type": "code",
   "execution_count": 23,
   "id": "ecb4cde9-5a9e-47b4-b20b-41d9cd263692",
   "metadata": {},
   "outputs": [
    {
     "data": {
      "text/plain": [
       "14230"
      ]
     },
     "execution_count": 23,
     "metadata": {},
     "output_type": "execute_result"
    }
   ],
   "source": [
    "# Conta a quantidade registros\n",
    "\n",
    "cid_df.count()"
   ]
  },
  {
   "cell_type": "code",
   "execution_count": 24,
   "id": "7cac4c3f-79ac-4aab-bd3e-f7fd0aea9959",
   "metadata": {},
   "outputs": [
    {
     "data": {
      "text/plain": [
       "6"
      ]
     },
     "execution_count": 24,
     "metadata": {},
     "output_type": "execute_result"
    }
   ],
   "source": [
    "len(cid_df.columns)"
   ]
  },
  {
   "cell_type": "code",
   "execution_count": 41,
   "id": "449146a9-582f-4ee9-9e35-8fcf65380cb3",
   "metadata": {},
   "outputs": [
    {
     "data": {
      "text/plain": [
       "14230"
      ]
     },
     "execution_count": 41,
     "metadata": {},
     "output_type": "execute_result"
    }
   ],
   "source": [
    "# Conta o número de códigos CID únicos\n",
    "\n",
    "cid_df \\\n",
    "    .select('CO_CID') \\\n",
    "    .distinct() \\\n",
    "    .count()"
   ]
  },
  {
   "cell_type": "code",
   "execution_count": 42,
   "id": "735d03df-21c6-4f37-8f54-e0d6d28832b5",
   "metadata": {},
   "outputs": [
    {
     "name": "stdout",
     "output_type": "stream",
     "text": [
      "root\n",
      " |-- CO_CID: string (nullable = true)\n",
      " |-- NO_CID: string (nullable = true)\n",
      " |-- TP_AGRAVO: string (nullable = true)\n",
      " |-- TP_SEXO: string (nullable = true)\n",
      " |-- TP_ESTADIO: string (nullable = true)\n",
      " |-- VL_CAMPOS_IRRADIADOS: string (nullable = true)\n",
      "\n"
     ]
    }
   ],
   "source": [
    "# Mostra as colunas e tipos de dados no dataframe CID\n",
    "\n",
    "cid_df.printSchema()"
   ]
  },
  {
   "cell_type": "code",
   "execution_count": 43,
   "id": "515b1c57-c1e2-4fe4-91bd-0396ed11c41e",
   "metadata": {},
   "outputs": [
    {
     "name": "stdout",
     "output_type": "stream",
     "text": [
      "+------+--------------------+---------+-------+----------+--------------------+\n",
      "|CO_CID|              NO_CID|TP_AGRAVO|TP_SEXO|TP_ESTADIO|VL_CAMPOS_IRRADIADOS|\n",
      "+------+--------------------+---------+-------+----------+--------------------+\n",
      "|   A00|              Cólera|        0|      I|         N|                 000|\n",
      "|  A000|Cólera devida a V...|        2|      I|         N|                 000|\n",
      "|  A001|Cólera devida a V...|        2|      I|         N|                 000|\n",
      "|  A009|Cólera não especi...|        2|      I|         N|                 000|\n",
      "|   A01|Febres tifóide e ...|        0|      I|         N|                 000|\n",
      "|  A010|       Febre tifóide|        1|      I|         N|                 000|\n",
      "|  A011| Febre paratifóide A|        0|      I|         N|                 000|\n",
      "|  A012| Febre paratifóide B|        0|      I|         N|                 000|\n",
      "|  A013| Febre paratifóide C|        0|      I|         N|                 000|\n",
      "|  A014|Febre paratifóide...|        0|      I|         N|                 000|\n",
      "|   A02|Outras infecções ...|        0|      I|         N|                 000|\n",
      "|  A020|Enterite por salm...|        1|      I|         N|                 000|\n",
      "|  A021|Septicemia por sa...|        1|      I|         N|                 000|\n",
      "|  A022|Infecções localiz...|        1|      I|         N|                 000|\n",
      "|  A028|Outras infecções ...|        1|      I|         N|                 000|\n",
      "|  A029|Infecção não espe...|        1|      I|         N|                 000|\n",
      "|   A03|          Shiguelose|        0|      I|         N|                 000|\n",
      "|  A030|Shiguelose devida...|        0|      I|         N|                 000|\n",
      "|  A031|Shiguelose devida...|        0|      I|         N|                 000|\n",
      "|  A032|Shiguelose devida...|        0|      I|         N|                 000|\n",
      "+------+--------------------+---------+-------+----------+--------------------+\n",
      "only showing top 20 rows\n",
      "\n"
     ]
    }
   ],
   "source": [
    "# Mostra os primeiros 20 registros do dataframe CID\n",
    "\n",
    "cid_df.show()"
   ]
  },
  {
   "cell_type": "code",
   "execution_count": 44,
   "id": "d4ed0b2b-f1fd-4be6-bed5-d892ac0d8b13",
   "metadata": {},
   "outputs": [
    {
     "name": "stdout",
     "output_type": "stream",
     "text": [
      "+---+-----+\n",
      "|LEN|count|\n",
      "+---+-----+\n",
      "|  3| 2042|\n",
      "|  4|12188|\n",
      "+---+-----+\n",
      "\n"
     ]
    }
   ],
   "source": [
    "cid_df \\\n",
    "    .selectExpr('len(CO_CID) as LEN',\n",
    "                'CO_CID',\n",
    "                'NO_CID') \\\n",
    "    .groupBy('LEN') \\\n",
    "    .count() \\\n",
    "    .show()"
   ]
  },
  {
   "cell_type": "code",
   "execution_count": 45,
   "id": "b2bb6fab-6d88-4a94-b47f-d67047e9296e",
   "metadata": {},
   "outputs": [
    {
     "name": "stdout",
     "output_type": "stream",
     "text": [
      "+------+--------------------+---------+-------+----------+--------------------+--------+\n",
      "|CO_CID|              NO_CID|TP_AGRAVO|TP_SEXO|TP_ESTADIO|VL_CAMPOS_IRRADIADOS|CO_CATEG|\n",
      "+------+--------------------+---------+-------+----------+--------------------+--------+\n",
      "|   A00|              Cólera|        0|      I|         N|                 000|     A00|\n",
      "|  A000|Cólera devida a V...|        2|      I|         N|                 000|     A00|\n",
      "|  A001|Cólera devida a V...|        2|      I|         N|                 000|     A00|\n",
      "|  A009|Cólera não especi...|        2|      I|         N|                 000|     A00|\n",
      "|   A01|Febres tifóide e ...|        0|      I|         N|                 000|     A01|\n",
      "|  A010|       Febre tifóide|        1|      I|         N|                 000|     A01|\n",
      "|  A011| Febre paratifóide A|        0|      I|         N|                 000|     A01|\n",
      "|  A012| Febre paratifóide B|        0|      I|         N|                 000|     A01|\n",
      "|  A013| Febre paratifóide C|        0|      I|         N|                 000|     A01|\n",
      "|  A014|Febre paratifóide...|        0|      I|         N|                 000|     A01|\n",
      "|   A02|Outras infecções ...|        0|      I|         N|                 000|     A02|\n",
      "|  A020|Enterite por salm...|        1|      I|         N|                 000|     A02|\n",
      "|  A021|Septicemia por sa...|        1|      I|         N|                 000|     A02|\n",
      "|  A022|Infecções localiz...|        1|      I|         N|                 000|     A02|\n",
      "|  A028|Outras infecções ...|        1|      I|         N|                 000|     A02|\n",
      "|  A029|Infecção não espe...|        1|      I|         N|                 000|     A02|\n",
      "|   A03|          Shiguelose|        0|      I|         N|                 000|     A03|\n",
      "|  A030|Shiguelose devida...|        0|      I|         N|                 000|     A03|\n",
      "|  A031|Shiguelose devida...|        0|      I|         N|                 000|     A03|\n",
      "|  A032|Shiguelose devida...|        0|      I|         N|                 000|     A03|\n",
      "+------+--------------------+---------+-------+----------+--------------------+--------+\n",
      "only showing top 20 rows\n",
      "\n"
     ]
    }
   ],
   "source": [
    "cid_df = cid_df \\\n",
    "    .withColumn('CO_CATEG', F.left('CO_CID', F.lit(3)))\n",
    "\n",
    "cid_df.show()"
   ]
  },
  {
   "cell_type": "code",
   "execution_count": 46,
   "id": "4f41e342-3fbd-485d-a7da-5f74ec2d06ca",
   "metadata": {},
   "outputs": [
    {
     "name": "stdout",
     "output_type": "stream",
     "text": [
      "+------+--------------------+--------+--------------------+---------+-------+----------+--------------------+\n",
      "|CO_CID|              NO_CID|CO_CATEG|            NO_CATEG|TP_AGRAVO|TP_SEXO|TP_ESTADIO|VL_CAMPOS_IRRADIADOS|\n",
      "+------+--------------------+--------+--------------------+---------+-------+----------+--------------------+\n",
      "|   A00|              Cólera|     A00|              Cólera|        0|      I|         N|                 000|\n",
      "|  A000|Cólera devida a V...|     A00|              Cólera|        2|      I|         N|                 000|\n",
      "|  A001|Cólera devida a V...|     A00|              Cólera|        2|      I|         N|                 000|\n",
      "|  A009|Cólera não especi...|     A00|              Cólera|        2|      I|         N|                 000|\n",
      "|   A01|Febres tifóide e ...|     A01|Febres tifóide e ...|        0|      I|         N|                 000|\n",
      "|  A010|       Febre tifóide|     A01|Febres tifóide e ...|        1|      I|         N|                 000|\n",
      "|  A011| Febre paratifóide A|     A01|Febres tifóide e ...|        0|      I|         N|                 000|\n",
      "|  A012| Febre paratifóide B|     A01|Febres tifóide e ...|        0|      I|         N|                 000|\n",
      "|  A013| Febre paratifóide C|     A01|Febres tifóide e ...|        0|      I|         N|                 000|\n",
      "|  A014|Febre paratifóide...|     A01|Febres tifóide e ...|        0|      I|         N|                 000|\n",
      "|   A02|Outras infecções ...|     A02|Outras infecções ...|        0|      I|         N|                 000|\n",
      "|  A020|Enterite por salm...|     A02|Outras infecções ...|        1|      I|         N|                 000|\n",
      "|  A021|Septicemia por sa...|     A02|Outras infecções ...|        1|      I|         N|                 000|\n",
      "|  A022|Infecções localiz...|     A02|Outras infecções ...|        1|      I|         N|                 000|\n",
      "|  A028|Outras infecções ...|     A02|Outras infecções ...|        1|      I|         N|                 000|\n",
      "|  A029|Infecção não espe...|     A02|Outras infecções ...|        1|      I|         N|                 000|\n",
      "|   A03|          Shiguelose|     A03|          Shiguelose|        0|      I|         N|                 000|\n",
      "|  A030|Shiguelose devida...|     A03|          Shiguelose|        0|      I|         N|                 000|\n",
      "|  A031|Shiguelose devida...|     A03|          Shiguelose|        0|      I|         N|                 000|\n",
      "|  A032|Shiguelose devida...|     A03|          Shiguelose|        0|      I|         N|                 000|\n",
      "+------+--------------------+--------+--------------------+---------+-------+----------+--------------------+\n",
      "only showing top 20 rows\n",
      "\n"
     ]
    }
   ],
   "source": [
    "cid_df = cid_df.alias('A') \\\n",
    "    .join(cid_df.select('CO_CID', 'NO_CID').alias('B'), F.col('A.CO_CATEG') == F.col('B.CO_CID')) \\\n",
    "    .selectExpr('A.CO_CID', \n",
    "                'A.NO_CID', \n",
    "                'CO_CATEG', \n",
    "                'B.NO_CID as NO_CATEG', \n",
    "                'TP_AGRAVO', \n",
    "                'TP_SEXO', \n",
    "                'TP_ESTADIO', \n",
    "                'VL_CAMPOS_IRRADIADOS')\n",
    "\n",
    "cid_df.show()"
   ]
  },
  {
   "cell_type": "code",
   "execution_count": 47,
   "id": "089dd4b2-984b-48da-853a-01640501ead4",
   "metadata": {},
   "outputs": [],
   "source": [
    "# Salva a tabela `cid_df` na pasta do data warehouse `sus-data-warehouse` em formato Apache Parquet\n",
    "\n",
    "cid_df.write \\\n",
    "    .format('parquet') \\\n",
    "    .mode('overwrite') \\\n",
    "    .save('sus-data-warehouse/cid')"
   ]
  },
  {
   "cell_type": "markdown",
   "id": "9b44c5ec-1201-443a-82f2-1100c03ce0b4",
   "metadata": {},
   "source": [
    "### Dimensão ANO_MES  (`ano_mes_df`) (`sia_df['PA_CMP']`)"
   ]
  },
  {
   "cell_type": "code",
   "execution_count": 48,
   "id": "b2fcc5f5-9d89-4877-a46c-64e50fe518b7",
   "metadata": {},
   "outputs": [
    {
     "name": "stdout",
     "output_type": "stream",
     "text": [
      "+---+---------+---------+---------+--------+\n",
      "|MES| MES_NOME|MES_ABREV|TRIMESTRE|SEMESTRE|\n",
      "+---+---------+---------+---------+--------+\n",
      "| 01|  JANEIRO|      JAN|        1|       1|\n",
      "| 02|FEVEREIRO|      FEV|        1|       1|\n",
      "| 03|    MARÇO|      MAR|        1|       1|\n",
      "| 04|    ABRIL|      ABR|        2|       1|\n",
      "| 05|     MAIO|      MAI|        2|       1|\n",
      "| 06|    JUNHO|      JUN|        2|       1|\n",
      "| 07|    JULHO|      JUL|        3|       2|\n",
      "| 08|   AGOSTO|      AGO|        3|       2|\n",
      "| 09| SETEMBRO|      SET|        3|       2|\n",
      "| 10|  OUTUBRO|      OUT|        4|       2|\n",
      "| 11| NOVEMBRO|      NOV|        4|       2|\n",
      "| 12| DEZEMBRO|      DEZ|        4|       2|\n",
      "+---+---------+---------+---------+--------+\n",
      "\n"
     ]
    }
   ],
   "source": [
    "# Cria um data frame auxiliar para a (sub)dimensão MÊS\n",
    "\n",
    "mes_df = spark.createDataFrame(\n",
    "    data=[('01', 'JANEIRO', 'JAN', '1', '1'),\n",
    "          ('02', 'FEVEREIRO', 'FEV', '1', '1'),\n",
    "          ('03', 'MARÇO', 'MAR', '1', '1'),\n",
    "          ('04', 'ABRIL', 'ABR', '2', '1'),\n",
    "          ('05', 'MAIO', 'MAI', '2', '1'),\n",
    "          ('06', 'JUNHO', 'JUN', '2', '1'),\n",
    "          ('07', 'JULHO', 'JUL', '3', '2'),\n",
    "          ('08', 'AGOSTO', 'AGO', '3', '2'),\n",
    "          ('09', 'SETEMBRO', 'SET', '3', '2'),\n",
    "          ('10', 'OUTUBRO', 'OUT', '4', '2'),\n",
    "          ('11', 'NOVEMBRO', 'NOV', '4', '2'),\n",
    "          ('12', 'DEZEMBRO', 'DEZ', '4', '2')],\n",
    "    schema=['MES', 'MES_NOME', 'MES_ABREV', 'TRIMESTRE', 'SEMESTRE']\n",
    ")\n",
    "\n",
    "mes_df.show()"
   ]
  },
  {
   "cell_type": "code",
   "execution_count": 49,
   "id": "8709f27c-2367-4596-a9ce-e53563583816",
   "metadata": {
    "scrolled": true
   },
   "outputs": [],
   "source": [
    "# Cria uma lista de string de anos e meses no formato AAAAMM de 2015 a 2020\n",
    "\n",
    "pa_cmp = [str(ano) + (str(mes) if len(str(mes)) > 1 else '0' + str(mes)) \n",
    "          for ano in list(range(2015, 2021)) \n",
    "          for mes in list(range(1, 13))]"
   ]
  },
  {
   "cell_type": "code",
   "execution_count": 50,
   "id": "8c7488e0-4198-471f-8187-25ea81d69f3c",
   "metadata": {},
   "outputs": [
    {
     "name": "stdout",
     "output_type": "stream",
     "text": [
      "+------+----+---+---------+---------+---------+--------+\n",
      "|PA_CMP| ANO|MES| MES_NOME|MES_ABREV|TRIMESTRE|SEMESTRE|\n",
      "+------+----+---+---------+---------+---------+--------+\n",
      "|201501|2015| 01|  JANEIRO|      JAN|        1|       1|\n",
      "|201502|2015| 02|FEVEREIRO|      FEV|        1|       1|\n",
      "|201503|2015| 03|    MARÇO|      MAR|        1|       1|\n",
      "|201504|2015| 04|    ABRIL|      ABR|        2|       1|\n",
      "|201505|2015| 05|     MAIO|      MAI|        2|       1|\n",
      "|201506|2015| 06|    JUNHO|      JUN|        2|       1|\n",
      "|201507|2015| 07|    JULHO|      JUL|        3|       2|\n",
      "|201508|2015| 08|   AGOSTO|      AGO|        3|       2|\n",
      "|201509|2015| 09| SETEMBRO|      SET|        3|       2|\n",
      "|201510|2015| 10|  OUTUBRO|      OUT|        4|       2|\n",
      "|201511|2015| 11| NOVEMBRO|      NOV|        4|       2|\n",
      "|201512|2015| 12| DEZEMBRO|      DEZ|        4|       2|\n",
      "|201601|2016| 01|  JANEIRO|      JAN|        1|       1|\n",
      "|201602|2016| 02|FEVEREIRO|      FEV|        1|       1|\n",
      "|201603|2016| 03|    MARÇO|      MAR|        1|       1|\n",
      "|201604|2016| 04|    ABRIL|      ABR|        2|       1|\n",
      "|201605|2016| 05|     MAIO|      MAI|        2|       1|\n",
      "|201606|2016| 06|    JUNHO|      JUN|        2|       1|\n",
      "|201607|2016| 07|    JULHO|      JUL|        3|       2|\n",
      "|201608|2016| 08|   AGOSTO|      AGO|        3|       2|\n",
      "+------+----+---+---------+---------+---------+--------+\n",
      "only showing top 20 rows\n",
      "\n"
     ]
    }
   ],
   "source": [
    "# Cria o data frame para a dimensão ANO_MES e popula com a informação dos meses\n",
    "\n",
    "ano_mes_df = spark.createDataFrame(\n",
    "    data=[(ano_mes,) for ano_mes in pa_cmp],\n",
    "    schema=['PA_CMP']\n",
    ")\n",
    "\n",
    "ano_mes_df = ano_mes_df \\\n",
    "    .selectExpr('PA_CMP',\n",
    "                'left(PA_CMP, 4) as ANO',\n",
    "                'right(PA_CMP, 2) as MES') \\\n",
    "    .join(mes_df, 'MES') \\\n",
    "    .orderBy('PA_CMP') \\\n",
    "    .select('PA_CMP', 'ANO', 'MES', 'MES_NOME', 'MES_ABREV', 'TRIMESTRE', 'SEMESTRE')\n",
    "\n",
    "ano_mes_df.show()"
   ]
  },
  {
   "cell_type": "code",
   "execution_count": 51,
   "id": "78a0d075-c785-431a-bf42-ff730ad9412a",
   "metadata": {},
   "outputs": [],
   "source": [
    "# Salva a tabela `ano_mes_df` na pasta do data warehouse `sus-data-warehouse` em formato Apache Parquet\n",
    "\n",
    "ano_mes_df.write \\\n",
    "    .format('parquet') \\\n",
    "    .mode('overwrite') \\\n",
    "    .save('sus-data-warehouse/ano_mes')"
   ]
  },
  {
   "cell_type": "markdown",
   "id": "e2e4cc62-b3b2-453d-ac05-03d753aa8dd7",
   "metadata": {},
   "source": [
    "### Dimensão CÓDIGO BRASILEIRO DE OCUPAÇÕES (`cbocod_df`) (`sia_df['PA_CBOCOD']`)"
   ]
  },
  {
   "cell_type": "code",
   "execution_count": 25,
   "id": "b1092770-353c-4ab2-a599-545cc5de463b",
   "metadata": {},
   "outputs": [
    {
     "name": "stdout",
     "output_type": "stream",
     "text": [
      "Requirement already satisfied: dbfread in c:\\mba\\tcc\\venv\\lib\\site-packages (2.0.7)\n"
     ]
    }
   ],
   "source": [
    "# Instala e import o pacote `dbfread`, para carregar arquivos tipo .dbf\n",
    "# Necessário para adquirir a lista do Código Brasileiro de Ocupações disponibilizada pelo DATASUS\n",
    "\n",
    "!pip install dbfread\n",
    "from dbfread import DBF"
   ]
  },
  {
   "cell_type": "code",
   "execution_count": 26,
   "id": "ce91bf9f-6974-4b3f-add4-a63b20567e56",
   "metadata": {},
   "outputs": [
    {
     "data": {
      "text/plain": [
       "OrderedDict([('CBO', '010105'), ('DS_CBO', 'Oficial General da Aeronautica')])"
      ]
     },
     "execution_count": 26,
     "metadata": {},
     "output_type": "execute_result"
    }
   ],
   "source": [
    "# Carrega a tabela a do Código Brasileiro de Ocupações (PA_CBOCOD) extraídos do arquivo de conversão para Tabwin CBO.DBF\n",
    "# baixado na página https://datasus.saude.gov.br/transferencia-de-arquivos/ em 12/08/2024\n",
    "# Fonte: SIASUS - Sistema de Informações Ambulatoriais dos SUS), Modalidade: Arquivos auxiliares para tabulação, Tipo de Arquivo: Arquivo de definição do Tabwin\n",
    "# /TAB_SIA/DBF/CBO.DBF\n",
    "\n",
    "cbo = DBF('data/CBO.dbf', load=True)\n",
    "\n",
    "cbo.records[0]"
   ]
  },
  {
   "cell_type": "code",
   "execution_count": 27,
   "id": "cd8111d1-d363-427d-a4bb-e71dc8962bf3",
   "metadata": {},
   "outputs": [
    {
     "name": "stdout",
     "output_type": "stream",
     "text": [
      "+---------+-----------------------------------+\n",
      "|PA_CBOCOD|CBOCOD_DESC                        |\n",
      "+---------+-----------------------------------+\n",
      "|010105   |Oficial General da Aeronautica     |\n",
      "|010110   |Oficial General do Exercito        |\n",
      "|010115   |Oficial General da Marinha         |\n",
      "|010205   |Oficial da Aeronautica             |\n",
      "|010210   |Oficial do Exercito                |\n",
      "|010215   |Oficial da Marinha                 |\n",
      "|010305   |Praca da Aeronautica               |\n",
      "|010310   |Praca do Exercito                  |\n",
      "|010315   |Praca da Marinha                   |\n",
      "|020105   |Coronel da Policia Militar         |\n",
      "|020110   |Tenente-Coronel da Policia Militar |\n",
      "|020115   |Major da Policia Militar           |\n",
      "|020205   |Capitao da Policia Militar         |\n",
      "|020305   |Primeiro Tenente de Policia Militar|\n",
      "|020310   |Segundo Tenente de Policia Militar |\n",
      "|021105   |Subtenente da Policia Militar      |\n",
      "|021110   |Sargento da Policia Militar        |\n",
      "|021205   |Cabo da Policia Militar            |\n",
      "|021210   |Soldado da Policia Militar         |\n",
      "|030105   |Coronel Bombeiro Militar           |\n",
      "+---------+-----------------------------------+\n",
      "only showing top 20 rows\n",
      "\n"
     ]
    }
   ],
   "source": [
    "# Cria o Data Frame da dimensão PA_CBOCOD - Código Brasileiro de Ocupações\n",
    "\n",
    "cbocod_df = spark.createDataFrame(\n",
    "    data=[(record['CBO'], record['DS_CBO']) for record in cbo.records],\n",
    "    schema=['PA_CBOCOD', 'CBOCOD_DESC'])\n",
    "\n",
    "cbocod_df.show(truncate=False)"
   ]
  },
  {
   "cell_type": "code",
   "execution_count": 28,
   "id": "c855c0eb-8ba1-4657-ade5-b7ee32b2b5e7",
   "metadata": {},
   "outputs": [
    {
     "data": {
      "text/plain": [
       "2812"
      ]
     },
     "execution_count": 28,
     "metadata": {},
     "output_type": "execute_result"
    }
   ],
   "source": [
    "# Quantidade de registros no data frame 'cbocod_df'\n",
    "\n",
    "cbocod_df.count()"
   ]
  },
  {
   "cell_type": "raw",
   "id": "f29256c7-069f-4dfe-97f0-34a6a4e7ad39",
   "metadata": {},
   "source": [
    "# Salva a tabela `ano_mes_df` na pasta do data warehouse `sus-data-warehouse` em formato Apache Parquet\n",
    "\n",
    "cbocod_df.write \\\n",
    "    .format('parquet') \\\n",
    "    .mode('overwrite') \\\n",
    "    .save('sus-data-warehouse/cbocod')"
   ]
  },
  {
   "cell_type": "markdown",
   "id": "c4f3dc97-ed24-494a-974c-60cf5b4f7ad2",
   "metadata": {},
   "source": [
    "### Dimensão TIPO DE ESTABELECIMENTO (`tpups_df`) (`sia_df['PA_TPUPS']`)"
   ]
  },
  {
   "cell_type": "code",
   "execution_count": 57,
   "id": "0785b098-676e-4a09-93de-043e360d01e2",
   "metadata": {},
   "outputs": [
    {
     "name": "stdout",
     "output_type": "stream",
     "text": [
      "+--------+-------------------------------------------------+\n",
      "|PA_TPUPS|TPUPS_DESC                                       |\n",
      "+--------+-------------------------------------------------+\n",
      "|74      |ACADEMIA DA SAÚDE                                |\n",
      "|81      |CENTRAL DE REGUALAÇÃO                            |\n",
      "|76      |CENTRAL DE REGULAÇÃO MÉDICA DAS URGÊNCIAS        |\n",
      "|71      |CENTRO DE APOIO A SAÚDE DA FAMÍLIA-CASF          |\n",
      "|69      |CENTRO DE ATENÇÃOO HEMOTERÁPICA E/OU HEMATOLÓGICA|\n",
      "|70      |CENTRO DE ATENÇÃO PSICOSSOCIAL-CAPS              |\n",
      "|61      |CENTRO DE PARTO NORMAL                           |\n",
      "|02      |CENTRO DE SAUDE/UNIDADE BASICA DE SAUDE          |\n",
      "|64      |CENTRAL DE REGULACAO DE SERVICOS DE SAUDE        |\n",
      "|36      |CLINICA ESPECIALIZADA/AMBULATORIO ESPECIALIZADO  |\n",
      "|22      |CONSULTORIO                                      |\n",
      "|60      |COOPERATIVA                                      |\n",
      "|43      |FARMACIA                                         |\n",
      "|07      |HOSPITAL ESPECIALIZADO                           |\n",
      "|05      |HOSPITAL GERAL                                   |\n",
      "|62      |HOSPITAL DIA                                     |\n",
      "|67      |LABORATORIO CENTRAL DE SAUDE PUBLICA - LACEN     |\n",
      "|80      |ORIO DE SAUDE PUBLICA                            |\n",
      "|04      |POLICLINICA                                      |\n",
      "|79      |OFICINA ORTOPEDICA                               |\n",
      "+--------+-------------------------------------------------+\n",
      "only showing top 20 rows\n",
      "\n"
     ]
    }
   ],
   "source": [
    "# Cria um Data Frame para a dimensão Tipos de Estabelecimentos (PA_TPUPS)\n",
    "# SIA.PA_TPUPS == CNES.TP_UNIDADE\n",
    "\n",
    "# Tipos de estabelecimento (PA_TPUPS) extraídos do arquivo de conversão para Tabwin TP_ESTAB.CNV\n",
    "# baixado na página https://datasus.saude.gov.br/transferencia-de-arquivos/ em 12/08/2024\n",
    "# Fonte: SIASUS - Sistema de Informações Ambulatoriais dos SUS), Modalidade: Arquivos auxiliares para tabulação, Tipo de Arquivo: Arquivo de definição do Tabwin\n",
    "# /TAB_SIA/CNV/TP_ESTAB.CNV\n",
    "\n",
    "tpups_df = spark.createDataFrame(\n",
    "    data=[('74', 'ACADEMIA DA SAÚDE'),\n",
    "          ('81', 'CENTRAL DE REGUALAÇÃO'),\n",
    "          ('76', 'CENTRAL DE REGULAÇÃO MÉDICA DAS URGÊNCIAS'),\n",
    "          ('71', 'CENTRO DE APOIO A SAÚDE DA FAMÍLIA-CASF'),\n",
    "          ('69', 'CENTRO DE ATENÇÃOO HEMOTERÁPICA E/OU HEMATOLÓGICA'),\n",
    "          ('70', 'CENTRO DE ATENÇÃO PSICOSSOCIAL-CAPS'),\n",
    "          ('61', 'CENTRO DE PARTO NORMAL'),\n",
    "          ('02', 'CENTRO DE SAUDE/UNIDADE BASICA DE SAUDE'),\n",
    "          ('64', 'CENTRAL DE REGULACAO DE SERVICOS DE SAUDE'),\n",
    "          ('36', 'CLINICA ESPECIALIZADA/AMBULATORIO ESPECIALIZADO'),\n",
    "          ('22', 'CONSULTORIO'),\n",
    "          ('60', 'COOPERATIVA'),\n",
    "          ('43', 'FARMACIA'),\n",
    "          ('07', 'HOSPITAL ESPECIALIZADO'),\n",
    "          ('05', 'HOSPITAL GERAL'),\n",
    "          ('62', 'HOSPITAL DIA'),\n",
    "          ('67', 'LABORATORIO CENTRAL DE SAUDE PUBLICA - LACEN'),\n",
    "          ('80', 'ORIO DE SAUDE PUBLICA'),\n",
    "          ('04', 'POLICLINICA'),\n",
    "          ('79', 'OFICINA ORTOPEDICA'),\n",
    "          ('01', 'POSTO DE SAUDE'),\n",
    "          ('73', 'PRONTO ANTEDIMENTO'),\n",
    "          ('21', 'PRONTO SOCORRO ESPECIALIZADO'),\n",
    "          ('20', 'PRONTO SOCORRO GERAL'),\n",
    "          ('68', 'SECRETARIA DE SAUDE'),\n",
    "          ('77', 'SERVICO DE ATENCAO DOMICILIAR ISOLADO(HOME CARE)'),\n",
    "          ('63', 'UNIDADE AUTORIZADORA'),\n",
    "          ('72', 'UNIDADE DE ATENÇÃO E SAÚDE INDÍGENA'),\n",
    "          ('78', 'UNIDADE DE ATENCAO EM REGIME RESIDENCIAL'),\n",
    "          ('39', 'UNIDADE DE SERVICO DE APOIO DE DIAGNOSE E TERAPIA'),\n",
    "          ('45', 'UNIDADE DE SAUDE DA FAMILIA'),\n",
    "          ('50', 'UNIDADE DE VIGILANCIA EM SAUDE'),\n",
    "          ('65', 'UNIDADE DE VIGILANCIA EPIDEMIOLOGIA (ANTIGO)'),\n",
    "          ('66', 'UNIDADE DE VIGILANCIA SANITARIA (ANTIGO)'),\n",
    "          ('15', 'UNIDADE MISTA'),\n",
    "          ('42', 'UNIDADE MOVEL DE NIVEL PRE-HOSP-URGENCIA/EMERGENCIA'),\n",
    "          ('32', 'UNIDADE MOVEL FLUVIAL'),\n",
    "          ('40', 'UNIDADE MOVEL TERRESTRE'),\n",
    "          ('75', 'TELESAÚDE'),\n",
    "          ('09', 'PRONTO SOCORRO DE HOSPITAL GERAL (ANTIGO)'),\n",
    "          ('12', 'PRONTO SOCORRO TRAUMATO-ORTOPEDICO (ANTIGO)'),\n",
    "          ('-99', 'TIPO ESTABELECIMENTO NÃO INFORMADO')],\n",
    "    schema=['PA_TPUPS', 'TPUPS_DESC']\n",
    ")\n",
    "\n",
    "tpups_df.show(truncate=False)"
   ]
  },
  {
   "cell_type": "code",
   "execution_count": 58,
   "id": "ddffde61-fb0e-43fd-88c8-16043cf20a0c",
   "metadata": {},
   "outputs": [],
   "source": [
    "# Salva a tabela `tpups_df` na pasta do data warehouse `sus-data-warehouse` em formato Apache Parquet\n",
    "\n",
    "tpups_df.write \\\n",
    "    .format('parquet') \\\n",
    "    .mode('overwrite') \\\n",
    "    .save('sus-data-warehouse/tpups')"
   ]
  },
  {
   "cell_type": "markdown",
   "id": "4451acf9-bdb4-4e45-ae86-c5d26bb6144b",
   "metadata": {},
   "source": [
    "### Dimensão CARÁTER DE ATENDIMENTO (`catend_df`) (`sia_df['PA_CATEND']`)"
   ]
  },
  {
   "cell_type": "code",
   "execution_count": 59,
   "id": "0506c88e-607c-4ffa-8617-0e2505abcdae",
   "metadata": {},
   "outputs": [
    {
     "name": "stdout",
     "output_type": "stream",
     "text": [
      "+---------+---------------------------------------------------+\n",
      "|PA_CATEND|CATEND_DESC                                        |\n",
      "+---------+---------------------------------------------------+\n",
      "|01       |ELETIVO                                            |\n",
      "|02       |URGÊNCIA                                           |\n",
      "|03       |ACIDENTE NO LOCAL TRABALHO OU A SERViÇO DA EMPRESA |\n",
      "|04       |ACIDENTE NO TRAJETO PARA O TRABALHO                |\n",
      "|05       |OUTROS TIPOS DE ACIDENTE DE TRÂNSITO               |\n",
      "|06       |OUTROS TIPOS LESÕES/ENVENENAMENTOS(AGENT.FIS./QUIM.|\n",
      "|99       |INFORMAÇÃO INEXISTENTE  (BPA-C)                    |\n",
      "|00       |CARATER DE ATENDIMENTO NÃO INFORMADO               |\n",
      "|07       |CARATER DE ATENDIMENTO INVALIDO                    |\n",
      "|10       |CARATER DE ATENDIMENTO INVALIDO                    |\n",
      "|12       |CARATER DE ATENDIMENTO INVALIDO                    |\n",
      "|20       |CARATER DE ATENDIMENTO INVALIDO                    |\n",
      "|53       |CARATER DE ATENDIMENTO INVALIDO                    |\n",
      "|54       |CARATER DE ATENDIMENTO INVALIDO                    |\n",
      "|57       |CARATER DE ATENDIMENTO INVALIDO                    |\n",
      "|0-       |CARATER DE ATENDIMENTO INVALIDO                    |\n",
      "|0E       |CARATER DE ATENDIMENTO INVALIDO                    |\n",
      "|0U       |CARATER DE ATENDIMENTO INVALIDO                    |\n",
      "+---------+---------------------------------------------------+\n",
      "\n"
     ]
    }
   ],
   "source": [
    "# Caráteres de Atendimento (PA_CATEND) extraídos do arquivo de conversão para Tabwin CARAT_AT.CNV\n",
    "# baixado na página https://datasus.saude.gov.br/transferencia-de-arquivos/ em 12/08/2024\n",
    "# Fonte: SIASUS - Sistema de Informações Ambulatoriais dos SUS), Modalidade: Arquivos auxiliares para tabulação, Tipo de Arquivo: Arquivo de definição do Tabwin\n",
    "# /TAB_SIA/CNV/CARAT_AT.CNV\n",
    "\n",
    "catend_df = spark.createDataFrame(\n",
    "    data=[\n",
    "        ('01', 'ELETIVO'),\n",
    "        ('02', 'URGÊNCIA'),\n",
    "        ('03', 'ACIDENTE NO LOCAL TRABALHO OU A SERViÇO DA EMPRESA'),\n",
    "        ('04', 'ACIDENTE NO TRAJETO PARA O TRABALHO '),\n",
    "        ('05', 'OUTROS TIPOS DE ACIDENTE DE TRÂNSITO'),\n",
    "        ('06', 'OUTROS TIPOS LESÕES/ENVENENAMENTOS(AGENT.FIS./QUIM.'),\n",
    "        ('99', 'INFORMAÇÃO INEXISTENTE  (BPA-C)'),\n",
    "        ('00', 'CARATER DE ATENDIMENTO NÃO INFORMADO'),\n",
    "        ('07', 'CARATER DE ATENDIMENTO INVALIDO'),\n",
    "        ('10', 'CARATER DE ATENDIMENTO INVALIDO'),\n",
    "        ('12', 'CARATER DE ATENDIMENTO INVALIDO'),\n",
    "        ('20', 'CARATER DE ATENDIMENTO INVALIDO'),\n",
    "        ('53', 'CARATER DE ATENDIMENTO INVALIDO'),\n",
    "        ('54', 'CARATER DE ATENDIMENTO INVALIDO'),\n",
    "        ('57', 'CARATER DE ATENDIMENTO INVALIDO'),\n",
    "        ('0-', 'CARATER DE ATENDIMENTO INVALIDO'),\n",
    "        ('0E', 'CARATER DE ATENDIMENTO INVALIDO'),\n",
    "        ('0U', 'CARATER DE ATENDIMENTO INVALIDO')\n",
    "    ],\n",
    "    schema=['PA_CATEND', 'CATEND_DESC']\n",
    ")\n",
    "\n",
    "catend_df.show(truncate=False)"
   ]
  },
  {
   "cell_type": "code",
   "execution_count": 60,
   "id": "0c6b39e5-eaec-4cd2-8ef3-7e5e6e73752f",
   "metadata": {},
   "outputs": [],
   "source": [
    "# Salva a tabela `catend_df` na pasta do data warehouse `sus-data-warehouse` em formato Apache Parquet\n",
    "\n",
    "catend_df.write \\\n",
    "    .format('parquet') \\\n",
    "    .mode('overwrite') \\\n",
    "    .save('sus-data-warehouse/catend')"
   ]
  },
  {
   "cell_type": "markdown",
   "id": "84f0db5e-f4fd-4ec5-8a36-88445beb9594",
   "metadata": {},
   "source": [
    "### Dimensão DOCUMENTO DE ORIGEM (`docorig_df`) (`sia_df['PA_DOCORIG']`)"
   ]
  },
  {
   "cell_type": "code",
   "execution_count": 61,
   "id": "1cd5ed0c-508b-42cf-8d17-d9fa4cd6082d",
   "metadata": {},
   "outputs": [
    {
     "name": "stdout",
     "output_type": "stream",
     "text": [
      "+----------+------------------------------+\n",
      "|PA_DOCORIG|DOCORIG_DESC                  |\n",
      "+----------+------------------------------+\n",
      "|C         |BPA - Consolidado             |\n",
      "|I         |BPA - Individualizado         |\n",
      "|P         |APAC - Procedimento Principal |\n",
      "|S         |APAC - Procedimento Secundário|\n",
      "|A         |RAAS - Atenção Domiciliar     |\n",
      "|B         |RAAS - Psicossocial           |\n",
      "+----------+------------------------------+\n",
      "\n"
     ]
    }
   ],
   "source": [
    "# Documentos de Origem (PA_DOCORIG) extraídos do arquivo de conversão para Tabwin DOCORIG.CNV\n",
    "# baixado na página https://datasus.saude.gov.br/transferencia-de-arquivos/ em 12/08/2024\n",
    "# Fonte: SIASUS - Sistema de Informações Ambulatoriais dos SUS), Modalidade: Arquivos auxiliares para tabulação, Tipo de Arquivo: Arquivo de definição do Tabwin\n",
    "# /TAB_SIA/CNV/DOCORIG.CNV\n",
    "\n",
    "docorig_df = spark.createDataFrame(\n",
    "    data=[\n",
    "        ('C', 'BPA - Consolidado'),  # BPA-C\n",
    "        ('I', 'BPA - Individualizado'),  # BPA-I\n",
    "        ('P', 'APAC - Procedimento Principal'),\n",
    "        ('S', 'APAC - Procedimento Secundário'),\n",
    "        ('A', 'RAAS - Atenção Domiciliar'),\n",
    "        ('B', 'RAAS - Psicossocial')\n",
    "    ],\n",
    "    schema=['PA_DOCORIG', 'DOCORIG_DESC']\n",
    ")\n",
    "\n",
    "docorig_df.show(truncate=False)"
   ]
  },
  {
   "cell_type": "code",
   "execution_count": 62,
   "id": "cf21ed24-ed13-4315-ac83-bb1c19b89fcb",
   "metadata": {},
   "outputs": [],
   "source": [
    "# Quantidade total de registros do data frame 'sia_df'\n",
    "\n",
    "sia_df_count = sia_df.count()"
   ]
  },
  {
   "cell_type": "code",
   "execution_count": 63,
   "id": "8538156e-cd56-45af-bcf3-56aa5c31e69a",
   "metadata": {},
   "outputs": [
    {
     "name": "stdout",
     "output_type": "stream",
     "text": [
      "+----------+-----------+---------------+------------------------------+\n",
      "|PA_DOCORIG|count      |DOCORIG_PERCENT|DOCORIG_DESC                  |\n",
      "+----------+-----------+---------------+------------------------------+\n",
      "|I         |958,547,600|55.0           |BPA - Individualizado         |\n",
      "|C         |460,061,443|26.4           |BPA - Consolidado             |\n",
      "|P         |147,446,676|8.46           |APAC - Procedimento Principal |\n",
      "|S         |119,552,212|6.86           |APAC - Procedimento Secundário|\n",
      "|B         |56,971,394 |3.27           |RAAS - Psicossocial           |\n",
      "|A         |164,644    |0.01           |RAAS - Atenção Domiciliar     |\n",
      "+----------+-----------+---------------+------------------------------+\n",
      "\n"
     ]
    }
   ],
   "source": [
    "# Verifica a distribuição de registros por PA_DOCORIG\n",
    "\n",
    "sia_df \\\n",
    "    .groupBy('PA_DOCORIG') \\\n",
    "    .count() \\\n",
    "    .withColumn('DOCORIG_PERCENT', F.round(F.col('count') / sia_df_count * 100, 2)) \\\n",
    "    .join(docorig_df, 'PA_DOCORIG') \\\n",
    "    .orderBy(F.desc('count')) \\\n",
    "    .withColumn('count', F.format_number('count', 0)) \\\n",
    "    .show(truncate=False)"
   ]
  },
  {
   "cell_type": "code",
   "execution_count": 64,
   "id": "381431c5-2203-44b9-810b-e3b836d718bc",
   "metadata": {},
   "outputs": [
    {
     "name": "stdout",
     "output_type": "stream",
     "text": [
      "-RECORD 0---------------------\n",
      " PA_CMP     | 201907          \n",
      " PA_CODUNI  | 4026896         \n",
      " PA_TPUPS   | 05              \n",
      " PA_UFMUN   | 291460          \n",
      " PA_PROC_ID | 0202010635      \n",
      " PA_DOCORIG | C               \n",
      " PA_CNSMED  | 000000000000000 \n",
      " PA_CBOCOD  | 223415          \n",
      " PA_MOTSAI  | 00              \n",
      " PA_CIDPRI  | 0000            \n",
      " PA_CIDSEC  | 0000            \n",
      " PA_CIDCAS  | 0000            \n",
      " PA_CATEND  | 99              \n",
      " PA_IDADE   | 999             \n",
      " PA_SEXO    | 0               \n",
      " PA_RACACOR | 00              \n",
      " PA_MUNPCN  | 999999          \n",
      " PA_QTDAPR  | 1               \n",
      " PA_VALAPR  | 1.85            \n",
      "only showing top 1 row\n",
      "\n"
     ]
    }
   ],
   "source": [
    "sia_df \\\n",
    "    .where('PA_DOCORIG = \"C\"') \\\n",
    "    .show(1, vertical=True)"
   ]
  },
  {
   "cell_type": "code",
   "execution_count": 65,
   "id": "2be76355-ea90-4101-90ee-223441d10ca4",
   "metadata": {},
   "outputs": [],
   "source": [
    "# Salva a tabela `docorig_df` na pasta do data warehouse `sus-data-warehouse` em formato Apache Parquet\n",
    "\n",
    "docorig_df.write \\\n",
    "    .format('parquet') \\\n",
    "    .mode('overwrite') \\\n",
    "    .save('sus-data-warehouse/docorig')"
   ]
  },
  {
   "cell_type": "markdown",
   "id": "bfd6c1d6-29f3-404c-b5b9-7a36f8fb15f0",
   "metadata": {},
   "source": [
    "### Dimensão SEXO (`sexo_df`) (`sia_df['PA_SEXO']`)"
   ]
  },
  {
   "cell_type": "code",
   "execution_count": 66,
   "id": "f059ad4a-9222-4183-a303-a2e32bf8e092",
   "metadata": {
    "scrolled": true
   },
   "outputs": [
    {
     "name": "stdout",
     "output_type": "stream",
     "text": [
      "+-------+-----------+\n",
      "|PA_SEXO|      count|\n",
      "+-------+-----------+\n",
      "|      F|761,155,673|\n",
      "|      M|521,526,726|\n",
      "|      0|460,061,550|\n",
      "|     01|          8|\n",
      "|     03|          7|\n",
      "|     99|          5|\n",
      "+-------+-----------+\n",
      "\n"
     ]
    }
   ],
   "source": [
    "# Verifica a contagem de valores na coluna PA_SEXO\n",
    "\n",
    "sia_df \\\n",
    "    .groupBy('PA_SEXO') \\\n",
    "    .count() \\\n",
    "    .orderBy(F.desc('count')) \\\n",
    "    .withColumn('count', F.format_number('count', 0)) \\\n",
    "    .show()"
   ]
  },
  {
   "cell_type": "markdown",
   "id": "e1632cac-d5a3-4426-97f2-58cd0b472c76",
   "metadata": {},
   "source": [
    "PA_SEXO \"0\"? Não informado? ['01', '02', '99'] devem ser erros."
   ]
  },
  {
   "cell_type": "code",
   "execution_count": 67,
   "id": "4581c3c0-c314-40cd-8ea3-6cdaa653d08f",
   "metadata": {},
   "outputs": [
    {
     "name": "stdout",
     "output_type": "stream",
     "text": [
      "+-------+-----------+\n",
      "|PA_SEXO|  SEXO_DESC|\n",
      "+-------+-----------+\n",
      "|      0|Não exigido|\n",
      "|      M|  Masculino|\n",
      "|      F|   Feminino|\n",
      "+-------+-----------+\n",
      "\n"
     ]
    }
   ],
   "source": [
    "# Sexos (PA_SEXO) extraídos do arquivo de conversão para Tabwin SEXO.CNV\n",
    "# baixado na página https://datasus.saude.gov.br/transferencia-de-arquivos/ em 12/08/2024\n",
    "# Fonte: SIASUS - Sistema de Informações Ambulatoriais dos SUS), Modalidade: Arquivos auxiliares para tabulação, Tipo de Arquivo: Arquivo de definição do Tabwin\n",
    "# /TAB_SIA/CNV/SEXO.CNV\n",
    "\n",
    "sexo_df = spark.createDataFrame(\n",
    "    data= [('0', 'Não exigido'),\n",
    "           ('M', 'Masculino'),\n",
    "           ('F', 'Feminino')],\n",
    "    schema=['PA_SEXO', 'SEXO_DESC']\n",
    ")\n",
    "\n",
    "sexo_df.show()"
   ]
  },
  {
   "cell_type": "code",
   "execution_count": 68,
   "id": "35e7e26e-cad5-4dc0-8b7d-15f6d8ca7013",
   "metadata": {},
   "outputs": [],
   "source": [
    "# Salva a tabela `sexo_df` na pasta do data warehouse `sus-data-warehouse` em formato Apache Parquet\n",
    "\n",
    "sexo_df.write \\\n",
    "    .format('parquet') \\\n",
    "    .mode('overwrite') \\\n",
    "    .save('sus-data-warehouse/sexo')"
   ]
  },
  {
   "cell_type": "markdown",
   "id": "ff0ea8cf-4b1b-4170-bbfb-3ddd4d171fd7",
   "metadata": {},
   "source": [
    "### Dimensão RAÇA/COR (`raca_cor_df`) (`sia_df['PA_RACACOR']`)"
   ]
  },
  {
   "cell_type": "code",
   "execution_count": 69,
   "id": "2b03b039-7591-476e-9df5-edd928df7215",
   "metadata": {},
   "outputs": [
    {
     "name": "stdout",
     "output_type": "stream",
     "text": [
      "+----------+---------------------------+\n",
      "|PA_RACACOR|RACACOR_DESC               |\n",
      "+----------+---------------------------+\n",
      "|01        |BRANCA                     |\n",
      "|02        |PRETA                      |\n",
      "|03        |PARDA                      |\n",
      "|04        |AMARELA                    |\n",
      "|05        |INDIGENA                   |\n",
      "|99        |SEM INFORMAÇÃO             |\n",
      "|06        |RAÇA/COR=06 (INDEVIDO)     |\n",
      "|09        |RAÇA/COR=09 (INDEVIDO)     |\n",
      "|1M        |RACA/COR (OUTROS INDEVIDOS)|\n",
      "|1G        |RACA/COR (OUTROS INDEVIDOS)|\n",
      "|1C        |RACA/COR (OUTROS INDEVIDOS)|\n",
      "|DE        |RACA/COR (OUTROS INDEVIDOS)|\n",
      "|D         |RACA/COR (OUTROS INDEVIDOS)|\n",
      "|87        |RACA/COR (OUTROS INDEVIDOS)|\n",
      "+----------+---------------------------+\n",
      "\n"
     ]
    }
   ],
   "source": [
    "# Raça/Cor (PA_RACACOR) extraídos do arquivo de conversão para Tabwin RACA_COR.CNV\n",
    "# baixado na página https://datasus.saude.gov.br/transferencia-de-arquivos/ em 12/08/2024\n",
    "# Fonte: SIASUS - Sistema de Informações Ambulatoriais dos SUS), Modalidade: Arquivos auxiliares para tabulação, Tipo de Arquivo: Arquivo de definição do Tabwin\n",
    "# /TAB_SIA/CNV/RACA_COR.CNV\n",
    "\n",
    "raca_cor_df = spark.createDataFrame(\n",
    "    data=[('01', 'BRANCA'),\n",
    "          ('02', 'PRETA'),\n",
    "          ('03', 'PARDA'),\n",
    "          ('04', 'AMARELA'),\n",
    "          ('05', 'INDIGENA'),\n",
    "          ('99', 'SEM INFORMAÇÃO'),\n",
    "          ('06', 'RAÇA/COR=06 (INDEVIDO)'),\n",
    "          ('09', 'RAÇA/COR=09 (INDEVIDO)'),\n",
    "          ('1M', 'RACA/COR (OUTROS INDEVIDOS)'),\n",
    "          ('1G', 'RACA/COR (OUTROS INDEVIDOS)'),\n",
    "          ('1C', 'RACA/COR (OUTROS INDEVIDOS)'),\n",
    "          ('DE', 'RACA/COR (OUTROS INDEVIDOS)'),\n",
    "          ('D', 'RACA/COR (OUTROS INDEVIDOS)'),\n",
    "          ('87', 'RACA/COR (OUTROS INDEVIDOS)')],\n",
    "    schema=['PA_RACACOR', 'RACACOR_DESC']\n",
    ")\n",
    "\n",
    "raca_cor_df.show(truncate=False)"
   ]
  },
  {
   "cell_type": "code",
   "execution_count": 70,
   "id": "c3c6b766-5176-4081-8306-f93c50b40c29",
   "metadata": {},
   "outputs": [],
   "source": [
    "# Salva a tabela `raca_cor_df` na pasta do data warehouse `sus-data-warehouse` em formato Apache Parquet\n",
    "\n",
    "raca_cor_df.write \\\n",
    "    .format('parquet') \\\n",
    "    .mode('overwrite') \\\n",
    "    .save('sus-data-warehouse/raca_cor')"
   ]
  },
  {
   "cell_type": "markdown",
   "id": "26586bac-af4c-4224-a88f-da74c0071147",
   "metadata": {},
   "source": [
    "### Dimensão MOTIVO DE SAÍDA (`motsai_df`) (`sia_df['PA_MOTSAI']`)"
   ]
  },
  {
   "cell_type": "code",
   "execution_count": 71,
   "id": "67a0aa11-e350-481d-94b6-d17e066abccc",
   "metadata": {},
   "outputs": [
    {
     "name": "stdout",
     "output_type": "stream",
     "text": [
      "+---------+-------------+\n",
      "|PA_MOTSAI|        count|\n",
      "+---------+-------------+\n",
      "|       00|1,418,609,023|\n",
      "|       21|  275,660,569|\n",
      "|       28|   21,568,731|\n",
      "|       15|    8,617,676|\n",
      "|       12|    6,889,036|\n",
      "|       18|    4,178,059|\n",
      "|       11|    2,269,761|\n",
      "|       51|    1,272,749|\n",
      "|       41|    1,063,127|\n",
      "|       26|    1,006,297|\n",
      "|       31|      885,177|\n",
      "|       25|      178,617|\n",
      "|       16|      165,496|\n",
      "|       43|       98,692|\n",
      "|       22|       97,093|\n",
      "|       24|       70,733|\n",
      "|       42|       68,800|\n",
      "|       14|       34,744|\n",
      "|       23|        6,243|\n",
      "|       27|        3,326|\n",
      "+---------+-------------+\n",
      "only showing top 20 rows\n",
      "\n"
     ]
    }
   ],
   "source": [
    "# Verifica a contagem de valores na coluna PA_MOTSAI\n",
    "\n",
    "sia_df \\\n",
    "    .groupBy('PA_MOTSAI') \\\n",
    "    .count() \\\n",
    "    .orderBy(F.desc('count')) \\\n",
    "    .withColumn('count', F.format_number('count', 0)) \\\n",
    "    .show()"
   ]
  },
  {
   "cell_type": "code",
   "execution_count": 72,
   "id": "6c2b0740-4265-4b4f-b45c-6a83f084895e",
   "metadata": {},
   "outputs": [
    {
     "name": "stdout",
     "output_type": "stream",
     "text": [
      "+---------+---------------------------------------------------+\n",
      "|PA_MOTSAI|MOTSAI_DESC                                        |\n",
      "+---------+---------------------------------------------------+\n",
      "|11       |ALTA CURADO                                        |\n",
      "|12       |ALTA MELHORADO                                     |\n",
      "|13       |ALTA DA PUÉRPERA E PERMANÊNCIA DO RECÉM NASCIDO    |\n",
      "|14       |ALTA A PEDIDO                                      |\n",
      "|15       |ALTA COM PREVISÃO DE RETORNO P/ ACOMPAN. DO PACIENT|\n",
      "|16       |ALTA POR EVASÃO                                    |\n",
      "|17       |ALTA DA PUÉRPERA E RECÉM NASCIDO                   |\n",
      "|18       |ALTA POR OUTROS MOTIVOS                            |\n",
      "|21       |PERMANÊNCIA POR CARACTERÍSTICAS PRÓPRIAS DA DOENÇA |\n",
      "|22       |PERMANÊNCIA POR INTERCORRÊNCIA                     |\n",
      "|23       |PERMANÊNCIA POR IMPOSSIBILIDADE SÓCIO-FAMILIAR     |\n",
      "|24       |PERMAN. POR PROCESSO-DOAÇÃO DE ÓRGÃOS-DOADOR VIVO  |\n",
      "|25       |PERMAN. POR PROCESSO-DOAÇÃO DE ÓRGÃOS-DOADOR MORTO |\n",
      "|26       |PERMANÊNCIA POR MUDANÇAA DE PROCEDIMENTO           |\n",
      "|27       |PERMANÊNCIA POR REOPERAÇÃO                         |\n",
      "|28       |PERMANÊNCIA POR OUTROS MOTIVOS                     |\n",
      "|31       |TRANSFERIDO PARA OUTRO ESTABELECIMENTO             |\n",
      "|41       |ÓBITO COM DECLARAÇÃO DE ÓBITO FORNEC. MÉDICO ASSIST|\n",
      "|42       |ÓBITO COM DECLARAÇÃO DE ÓBITO FORNECIDA PELO I.M.L |\n",
      "|43       |ÓBITO COM DECLARAÇÃO DE ÓBITO FORNECIDA PELO S.V.O |\n",
      "|51       |ENCERRAMENTO ADMINSTRATIVO                         |\n",
      "|00       |PRODUÇÃO SEM MOTIVO DE SAÍDA (BPA-C / BPA-I)       |\n",
      "+---------+---------------------------------------------------+\n",
      "\n"
     ]
    }
   ],
   "source": [
    "# Motivos de Saída (PA_MOTSAI) extraídos do arquivo de conversão para Tabwin MOTSAIPE.CNV\n",
    "# baixado na página https://datasus.saude.gov.br/transferencia-de-arquivos/ em 12/08/2024\n",
    "# Fonte: SIASUS - Sistema de Informações Ambulatoriais dos SUS), Modalidade: Arquivos auxiliares para tabulação, Tipo de Arquivo: Arquivo de definição do Tabwin\n",
    "# /TAB_SIA/CNV/MOTSAIPE.CNV\n",
    "\n",
    "motsai_df = spark.createDataFrame(\n",
    "    data=[('11', 'ALTA CURADO'),\n",
    "          ('12', 'ALTA MELHORADO'),\n",
    "          ('13', 'ALTA DA PUÉRPERA E PERMANÊNCIA DO RECÉM NASCIDO'),\n",
    "          ('14', 'ALTA A PEDIDO'),\n",
    "          ('15', 'ALTA COM PREVISÃO DE RETORNO P/ ACOMPAN. DO PACIENT'),\n",
    "          ('16', 'ALTA POR EVASÃO'),\n",
    "          ('17', 'ALTA DA PUÉRPERA E RECÉM NASCIDO'),\n",
    "          ('18', 'ALTA POR OUTROS MOTIVOS'),\n",
    "          ('21', 'PERMANÊNCIA POR CARACTERÍSTICAS PRÓPRIAS DA DOENÇA'),\n",
    "          ('22', 'PERMANÊNCIA POR INTERCORRÊNCIA'),\n",
    "          ('23', 'PERMANÊNCIA POR IMPOSSIBILIDADE SÓCIO-FAMILIAR'),\n",
    "          ('24', 'PERMAN. POR PROCESSO-DOAÇÃO DE ÓRGÃOS-DOADOR VIVO'),\n",
    "          ('25', 'PERMAN. POR PROCESSO-DOAÇÃO DE ÓRGÃOS-DOADOR MORTO'),\n",
    "          ('26', 'PERMANÊNCIA POR MUDANÇAA DE PROCEDIMENTO'),\n",
    "          ('27', 'PERMANÊNCIA POR REOPERAÇÃO'),\n",
    "          ('28', 'PERMANÊNCIA POR OUTROS MOTIVOS'),\n",
    "          ('31', 'TRANSFERIDO PARA OUTRO ESTABELECIMENTO'),\n",
    "          ('41', 'ÓBITO COM DECLARAÇÃO DE ÓBITO FORNEC. MÉDICO ASSIST'),\n",
    "          ('42', 'ÓBITO COM DECLARAÇÃO DE ÓBITO FORNECIDA PELO I.M.L'),\n",
    "          ('43', 'ÓBITO COM DECLARAÇÃO DE ÓBITO FORNECIDA PELO S.V.O'),\n",
    "          ('51', 'ENCERRAMENTO ADMINSTRATIVO'),\n",
    "          ('00', 'PRODUÇÃO SEM MOTIVO DE SAÍDA (BPA-C / BPA-I)')],\n",
    "    schema=['PA_MOTSAI', 'MOTSAI_DESC']\n",
    ")\n",
    "\n",
    "motsai_df.show(25, truncate=False)"
   ]
  },
  {
   "cell_type": "code",
   "execution_count": 73,
   "id": "28700c4f-ea55-4977-8715-f63d969edf28",
   "metadata": {},
   "outputs": [],
   "source": [
    "# Salva a tabela `motsai_df` na pasta do data warehouse `sus-data-warehouse` em formato Apache Parquet\n",
    "\n",
    "motsai_df.write \\\n",
    "    .format('parquet') \\\n",
    "    .mode('overwrite') \\\n",
    "    .save('sus-data-warehouse/motsai')"
   ]
  },
  {
   "cell_type": "markdown",
   "id": "ee17f163-0551-4637-8991-8d3b90fcbef8",
   "metadata": {},
   "source": [
    "## Encerramento da sessão Spark"
   ]
  },
  {
   "cell_type": "code",
   "execution_count": 74,
   "id": "ce134440-7a10-4340-809a-451ac9b186b5",
   "metadata": {},
   "outputs": [],
   "source": [
    "spark.stop()"
   ]
  },
  {
   "cell_type": "code",
   "execution_count": null,
   "id": "6d54a291-5725-464c-8be5-82009f25694a",
   "metadata": {},
   "outputs": [],
   "source": []
  }
 ],
 "metadata": {
  "kernelspec": {
   "display_name": "Python 3 (ipykernel)",
   "language": "python",
   "name": "python3"
  },
  "language_info": {
   "codemirror_mode": {
    "name": "ipython",
    "version": 3
   },
   "file_extension": ".py",
   "mimetype": "text/x-python",
   "name": "python",
   "nbconvert_exporter": "python",
   "pygments_lexer": "ipython3",
   "version": "3.10.5"
  }
 },
 "nbformat": 4,
 "nbformat_minor": 5
}
